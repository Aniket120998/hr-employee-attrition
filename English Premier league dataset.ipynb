{
 "cells": [
  {
   "cell_type": "markdown",
   "metadata": {},
   "source": [
    "2. English Premier League data\n",
    "Dataset link: https://github.com/insaid2018/Term-1/blob/master/Data/Projects/English_Premier_League.csv\n",
    "\n",
    "\n",
    "## Problem Statement:\n",
    "To explore the English Premier League data, so as to understand how it has fared across different seasons and evolved over the years. Analysis can help to determine trends in league over a season from August to May.\n",
    "\n",
    "### To perform analysis on:\n",
    "- Performance of teams over the years\n",
    "- Goal scoring behavior of teams\n",
    "- League progress over a season\n",
    "\n",
    "### To determine:\n",
    "- How to sustain in the league?\n",
    "- How to win the league?\n",
    "- What are the shortcomings in the league? And suggest suitable changes to improve the league conditions.\n",
    "\n",
    "\n",
    "#### Description of the Dataset\n",
    "\n",
    "This dataset contains results from every Premier League match from 1993-1994 to 2017-2018. Columns include Division (denoted as E0), HomeTeam, AwayTeam, FTHG (final time home goals), FTAG (final time away goals), FTR (full time result), HTHG (half time home goals), HTAG (half time away goals), HTR (half time result), and season.\n"
   ]
  },
  {
   "cell_type": "markdown",
   "metadata": {},
   "source": [
    "## Table of content\n",
    "1. [Importing packages](#section1)<br/>\n",
    "2. [Importing EPL Dataset](#section2)<br/>\n",
    "3. [Pre-profiling of dataset](#section3)<br/>\n",
    "4. [Pre-processing of dataset](#section4)<br/>\n",
    "5. [Post-profiling of dataset](#section5)\n",
    " - 5.1. [Goal scoring behavior of teams](#section501)<br>\n",
    " - 5.2. [Performance of teams over the years](#section502)<br>\n",
    " - 5.3. [League progress over a season](#section503)<br>\n",
    "6. [How to win, sustain in Premier league](#section6)<br/>\n",
    "7. [Conclusion](#section7)<br/>\n",
    "8. [Actionable Insights](#section8)<br/>"
   ]
  },
  {
   "cell_type": "markdown",
   "metadata": {},
   "source": [
    "<a id=section1></a>\n",
    "### 1. Importing packages"
   ]
  },
  {
   "cell_type": "code",
   "execution_count": 1,
   "metadata": {},
   "outputs": [],
   "source": [
    "import pandas as pd\n",
    "import numpy as np\n",
    "import seaborn as sns\n",
    "import matplotlib.pyplot as plt\n",
    "plt.style.use('seaborn-whitegrid')                 \n",
    "%matplotlib inline\n",
    "import datetime as dt"
   ]
  },
  {
   "cell_type": "markdown",
   "metadata": {},
   "source": [
    "<a id=section2></a>\n",
    "### 2. Importing EPL Dataset"
   ]
  },
  {
   "cell_type": "code",
   "execution_count": 2,
   "metadata": {
    "scrolled": true
   },
   "outputs": [
    {
     "data": {
      "text/html": [
       "<div>\n",
       "<style scoped>\n",
       "    .dataframe tbody tr th:only-of-type {\n",
       "        vertical-align: middle;\n",
       "    }\n",
       "\n",
       "    .dataframe tbody tr th {\n",
       "        vertical-align: top;\n",
       "    }\n",
       "\n",
       "    .dataframe thead th {\n",
       "        text-align: right;\n",
       "    }\n",
       "</style>\n",
       "<table border=\"1\" class=\"dataframe\">\n",
       "  <thead>\n",
       "    <tr style=\"text-align: right;\">\n",
       "      <th></th>\n",
       "      <th>Div</th>\n",
       "      <th>Date</th>\n",
       "      <th>HomeTeam</th>\n",
       "      <th>AwayTeam</th>\n",
       "      <th>FTHG</th>\n",
       "      <th>FTAG</th>\n",
       "      <th>FTR</th>\n",
       "      <th>HTHG</th>\n",
       "      <th>HTAG</th>\n",
       "      <th>HTR</th>\n",
       "      <th>Season</th>\n",
       "    </tr>\n",
       "  </thead>\n",
       "  <tbody>\n",
       "    <tr>\n",
       "      <th>0</th>\n",
       "      <td>E0</td>\n",
       "      <td>14/08/93</td>\n",
       "      <td>Arsenal</td>\n",
       "      <td>Coventry</td>\n",
       "      <td>0</td>\n",
       "      <td>3</td>\n",
       "      <td>A</td>\n",
       "      <td>NaN</td>\n",
       "      <td>NaN</td>\n",
       "      <td>NaN</td>\n",
       "      <td>1993-94</td>\n",
       "    </tr>\n",
       "    <tr>\n",
       "      <th>1</th>\n",
       "      <td>E0</td>\n",
       "      <td>14/08/93</td>\n",
       "      <td>Aston Villa</td>\n",
       "      <td>QPR</td>\n",
       "      <td>4</td>\n",
       "      <td>1</td>\n",
       "      <td>H</td>\n",
       "      <td>NaN</td>\n",
       "      <td>NaN</td>\n",
       "      <td>NaN</td>\n",
       "      <td>1993-94</td>\n",
       "    </tr>\n",
       "    <tr>\n",
       "      <th>2</th>\n",
       "      <td>E0</td>\n",
       "      <td>14/08/93</td>\n",
       "      <td>Chelsea</td>\n",
       "      <td>Blackburn</td>\n",
       "      <td>1</td>\n",
       "      <td>2</td>\n",
       "      <td>A</td>\n",
       "      <td>NaN</td>\n",
       "      <td>NaN</td>\n",
       "      <td>NaN</td>\n",
       "      <td>1993-94</td>\n",
       "    </tr>\n",
       "    <tr>\n",
       "      <th>3</th>\n",
       "      <td>E0</td>\n",
       "      <td>14/08/93</td>\n",
       "      <td>Liverpool</td>\n",
       "      <td>Sheffield Weds</td>\n",
       "      <td>2</td>\n",
       "      <td>0</td>\n",
       "      <td>H</td>\n",
       "      <td>NaN</td>\n",
       "      <td>NaN</td>\n",
       "      <td>NaN</td>\n",
       "      <td>1993-94</td>\n",
       "    </tr>\n",
       "    <tr>\n",
       "      <th>4</th>\n",
       "      <td>E0</td>\n",
       "      <td>14/08/93</td>\n",
       "      <td>Man City</td>\n",
       "      <td>Leeds</td>\n",
       "      <td>1</td>\n",
       "      <td>1</td>\n",
       "      <td>D</td>\n",
       "      <td>NaN</td>\n",
       "      <td>NaN</td>\n",
       "      <td>NaN</td>\n",
       "      <td>1993-94</td>\n",
       "    </tr>\n",
       "    <tr>\n",
       "      <th>5</th>\n",
       "      <td>E0</td>\n",
       "      <td>14/08/93</td>\n",
       "      <td>Newcastle</td>\n",
       "      <td>Tottenham</td>\n",
       "      <td>0</td>\n",
       "      <td>1</td>\n",
       "      <td>A</td>\n",
       "      <td>NaN</td>\n",
       "      <td>NaN</td>\n",
       "      <td>NaN</td>\n",
       "      <td>1993-94</td>\n",
       "    </tr>\n",
       "    <tr>\n",
       "      <th>6</th>\n",
       "      <td>E0</td>\n",
       "      <td>14/08/93</td>\n",
       "      <td>Oldham</td>\n",
       "      <td>Ipswich</td>\n",
       "      <td>0</td>\n",
       "      <td>3</td>\n",
       "      <td>A</td>\n",
       "      <td>NaN</td>\n",
       "      <td>NaN</td>\n",
       "      <td>NaN</td>\n",
       "      <td>1993-94</td>\n",
       "    </tr>\n",
       "    <tr>\n",
       "      <th>7</th>\n",
       "      <td>E0</td>\n",
       "      <td>14/08/93</td>\n",
       "      <td>Sheffield United</td>\n",
       "      <td>Swindon</td>\n",
       "      <td>3</td>\n",
       "      <td>1</td>\n",
       "      <td>H</td>\n",
       "      <td>NaN</td>\n",
       "      <td>NaN</td>\n",
       "      <td>NaN</td>\n",
       "      <td>1993-94</td>\n",
       "    </tr>\n",
       "    <tr>\n",
       "      <th>8</th>\n",
       "      <td>E0</td>\n",
       "      <td>14/08/93</td>\n",
       "      <td>Southampton</td>\n",
       "      <td>Everton</td>\n",
       "      <td>0</td>\n",
       "      <td>2</td>\n",
       "      <td>A</td>\n",
       "      <td>NaN</td>\n",
       "      <td>NaN</td>\n",
       "      <td>NaN</td>\n",
       "      <td>1993-94</td>\n",
       "    </tr>\n",
       "    <tr>\n",
       "      <th>9</th>\n",
       "      <td>E0</td>\n",
       "      <td>14/08/93</td>\n",
       "      <td>West Ham</td>\n",
       "      <td>Wimbledon</td>\n",
       "      <td>0</td>\n",
       "      <td>2</td>\n",
       "      <td>A</td>\n",
       "      <td>NaN</td>\n",
       "      <td>NaN</td>\n",
       "      <td>NaN</td>\n",
       "      <td>1993-94</td>\n",
       "    </tr>\n",
       "    <tr>\n",
       "      <th>10</th>\n",
       "      <td>E0</td>\n",
       "      <td>15/08/93</td>\n",
       "      <td>Norwich</td>\n",
       "      <td>Man United</td>\n",
       "      <td>0</td>\n",
       "      <td>2</td>\n",
       "      <td>A</td>\n",
       "      <td>NaN</td>\n",
       "      <td>NaN</td>\n",
       "      <td>NaN</td>\n",
       "      <td>1993-94</td>\n",
       "    </tr>\n",
       "  </tbody>\n",
       "</table>\n",
       "</div>"
      ],
      "text/plain": [
       "   Div      Date          HomeTeam        AwayTeam  FTHG  FTAG FTR  HTHG  \\\n",
       "0   E0  14/08/93           Arsenal        Coventry     0     3   A   NaN   \n",
       "1   E0  14/08/93       Aston Villa             QPR     4     1   H   NaN   \n",
       "2   E0  14/08/93           Chelsea       Blackburn     1     2   A   NaN   \n",
       "3   E0  14/08/93         Liverpool  Sheffield Weds     2     0   H   NaN   \n",
       "4   E0  14/08/93          Man City           Leeds     1     1   D   NaN   \n",
       "5   E0  14/08/93         Newcastle       Tottenham     0     1   A   NaN   \n",
       "6   E0  14/08/93            Oldham         Ipswich     0     3   A   NaN   \n",
       "7   E0  14/08/93  Sheffield United         Swindon     3     1   H   NaN   \n",
       "8   E0  14/08/93       Southampton         Everton     0     2   A   NaN   \n",
       "9   E0  14/08/93          West Ham       Wimbledon     0     2   A   NaN   \n",
       "10  E0  15/08/93           Norwich      Man United     0     2   A   NaN   \n",
       "\n",
       "    HTAG  HTR   Season  \n",
       "0    NaN  NaN  1993-94  \n",
       "1    NaN  NaN  1993-94  \n",
       "2    NaN  NaN  1993-94  \n",
       "3    NaN  NaN  1993-94  \n",
       "4    NaN  NaN  1993-94  \n",
       "5    NaN  NaN  1993-94  \n",
       "6    NaN  NaN  1993-94  \n",
       "7    NaN  NaN  1993-94  \n",
       "8    NaN  NaN  1993-94  \n",
       "9    NaN  NaN  1993-94  \n",
       "10   NaN  NaN  1993-94  "
      ]
     },
     "execution_count": 2,
     "metadata": {},
     "output_type": "execute_result"
    }
   ],
   "source": [
    "df_epl = pd.read_csv(\"https://raw.githubusercontent.com/insaid2018/Term-1/master/Data/Projects/English_Premier_League.csv\")\n",
    "df_epl.head(11)"
   ]
  },
  {
   "cell_type": "markdown",
   "metadata": {},
   "source": [
    "<a id=section3></a>\n",
    "### 3. Pre-profiling of dataset"
   ]
  },
  {
   "cell_type": "code",
   "execution_count": 3,
   "metadata": {},
   "outputs": [
    {
     "name": "stdout",
     "output_type": "stream",
     "text": [
      "<class 'pandas.core.frame.DataFrame'>\n",
      "RangeIndex: 9664 entries, 0 to 9663\n",
      "Data columns (total 11 columns):\n",
      " #   Column    Non-Null Count  Dtype  \n",
      "---  ------    --------------  -----  \n",
      " 0   Div       9664 non-null   object \n",
      " 1   Date      9664 non-null   object \n",
      " 2   HomeTeam  9664 non-null   object \n",
      " 3   AwayTeam  9664 non-null   object \n",
      " 4   FTHG      9664 non-null   int64  \n",
      " 5   FTAG      9664 non-null   int64  \n",
      " 6   FTR       9664 non-null   object \n",
      " 7   HTHG      8740 non-null   float64\n",
      " 8   HTAG      8740 non-null   float64\n",
      " 9   HTR       8740 non-null   object \n",
      " 10  Season    9664 non-null   object \n",
      "dtypes: float64(2), int64(2), object(7)\n",
      "memory usage: 830.6+ KB\n"
     ]
    }
   ],
   "source": [
    "df_epl.info()"
   ]
  },
  {
   "cell_type": "code",
   "execution_count": 4,
   "metadata": {},
   "outputs": [
    {
     "name": "stdout",
     "output_type": "stream",
     "text": [
      "Requirement already up-to-date: pandas-profiling in c:\\users\\aniket\\anaconda3\\lib\\site-packages (2.9.0)\n",
      "Requirement already satisfied, skipping upgrade: pandas!=1.0.0,!=1.0.1,!=1.0.2,!=1.1.0,>=0.25.3 in c:\\users\\aniket\\anaconda3\\lib\\site-packages (from pandas-profiling) (1.0.5)\n",
      "Requirement already satisfied, skipping upgrade: numpy>=1.16.0 in c:\\users\\aniket\\anaconda3\\lib\\site-packages (from pandas-profiling) (1.18.5)\n",
      "Requirement already satisfied, skipping upgrade: htmlmin>=0.1.12 in c:\\users\\aniket\\anaconda3\\lib\\site-packages (from pandas-profiling) (0.1.12)\n",
      "Requirement already satisfied, skipping upgrade: matplotlib>=3.2.0 in c:\\users\\aniket\\anaconda3\\lib\\site-packages (from pandas-profiling) (3.2.2)\n",
      "Requirement already satisfied, skipping upgrade: attrs>=19.3.0 in c:\\users\\aniket\\anaconda3\\lib\\site-packages (from pandas-profiling) (19.3.0)\n",
      "Requirement already satisfied, skipping upgrade: missingno>=0.4.2 in c:\\users\\aniket\\anaconda3\\lib\\site-packages (from pandas-profiling) (0.4.2)\n",
      "Requirement already satisfied, skipping upgrade: seaborn>=0.10.1 in c:\\users\\aniket\\anaconda3\\lib\\site-packages (from pandas-profiling) (0.10.1)\n",
      "Requirement already satisfied, skipping upgrade: visions[type_image_path]==0.5.0 in c:\\users\\aniket\\anaconda3\\lib\\site-packages (from pandas-profiling) (0.5.0)\n",
      "Requirement already satisfied, skipping upgrade: phik>=0.9.10 in c:\\users\\aniket\\anaconda3\\lib\\site-packages (from pandas-profiling) (0.10.0)\n",
      "Requirement already satisfied, skipping upgrade: tangled-up-in-unicode>=0.0.6 in c:\\users\\aniket\\anaconda3\\lib\\site-packages (from pandas-profiling) (0.0.6)\n",
      "Requirement already satisfied, skipping upgrade: confuse>=1.0.0 in c:\\users\\aniket\\anaconda3\\lib\\site-packages (from pandas-profiling) (1.3.0)\n",
      "Requirement already satisfied, skipping upgrade: requests>=2.23.0 in c:\\users\\aniket\\anaconda3\\lib\\site-packages (from pandas-profiling) (2.24.0)\n",
      "Requirement already satisfied, skipping upgrade: ipywidgets>=7.5.1 in c:\\users\\aniket\\anaconda3\\lib\\site-packages (from pandas-profiling) (7.5.1)\n",
      "Requirement already satisfied, skipping upgrade: jinja2>=2.11.1 in c:\\users\\aniket\\anaconda3\\lib\\site-packages (from pandas-profiling) (2.11.2)\n",
      "Requirement already satisfied, skipping upgrade: joblib in c:\\users\\aniket\\anaconda3\\lib\\site-packages (from pandas-profiling) (0.16.0)\n",
      "Requirement already satisfied, skipping upgrade: tqdm>=4.43.0 in c:\\users\\aniket\\anaconda3\\lib\\site-packages (from pandas-profiling) (4.47.0)\n",
      "Requirement already satisfied, skipping upgrade: scipy>=1.4.1 in c:\\users\\aniket\\anaconda3\\lib\\site-packages (from pandas-profiling) (1.5.0)\n",
      "Requirement already satisfied, skipping upgrade: python-dateutil>=2.6.1 in c:\\users\\aniket\\anaconda3\\lib\\site-packages (from pandas!=1.0.0,!=1.0.1,!=1.0.2,!=1.1.0,>=0.25.3->pandas-profiling) (2.8.1)\n",
      "Requirement already satisfied, skipping upgrade: pytz>=2017.2 in c:\\users\\aniket\\anaconda3\\lib\\site-packages (from pandas!=1.0.0,!=1.0.1,!=1.0.2,!=1.1.0,>=0.25.3->pandas-profiling) (2020.1)\n",
      "Requirement already satisfied, skipping upgrade: cycler>=0.10 in c:\\users\\aniket\\anaconda3\\lib\\site-packages (from matplotlib>=3.2.0->pandas-profiling) (0.10.0)\n",
      "Requirement already satisfied, skipping upgrade: kiwisolver>=1.0.1 in c:\\users\\aniket\\anaconda3\\lib\\site-packages (from matplotlib>=3.2.0->pandas-profiling) (1.2.0)\n",
      "Requirement already satisfied, skipping upgrade: pyparsing!=2.0.4,!=2.1.2,!=2.1.6,>=2.0.1 in c:\\users\\aniket\\anaconda3\\lib\\site-packages (from matplotlib>=3.2.0->pandas-profiling) (2.4.7)\n",
      "Requirement already satisfied, skipping upgrade: networkx>=2.4 in c:\\users\\aniket\\anaconda3\\lib\\site-packages (from visions[type_image_path]==0.5.0->pandas-profiling) (2.4)\n",
      "Requirement already satisfied, skipping upgrade: Pillow; extra == \"type_image_path\" in c:\\users\\aniket\\anaconda3\\lib\\site-packages (from visions[type_image_path]==0.5.0->pandas-profiling) (7.2.0)\n",
      "Requirement already satisfied, skipping upgrade: imagehash; extra == \"type_image_path\" in c:\\users\\aniket\\anaconda3\\lib\\site-packages (from visions[type_image_path]==0.5.0->pandas-profiling) (4.1.0)\n",
      "Requirement already satisfied, skipping upgrade: numba>=0.38.1 in c:\\users\\aniket\\anaconda3\\lib\\site-packages (from phik>=0.9.10->pandas-profiling) (0.50.1)\n",
      "Requirement already satisfied, skipping upgrade: pyyaml in c:\\users\\aniket\\anaconda3\\lib\\site-packages (from confuse>=1.0.0->pandas-profiling) (5.3.1)\n",
      "Requirement already satisfied, skipping upgrade: urllib3!=1.25.0,!=1.25.1,<1.26,>=1.21.1 in c:\\users\\aniket\\anaconda3\\lib\\site-packages (from requests>=2.23.0->pandas-profiling) (1.25.9)\n",
      "Requirement already satisfied, skipping upgrade: idna<3,>=2.5 in c:\\users\\aniket\\anaconda3\\lib\\site-packages (from requests>=2.23.0->pandas-profiling) (2.10)\n",
      "Requirement already satisfied, skipping upgrade: certifi>=2017.4.17 in c:\\users\\aniket\\anaconda3\\lib\\site-packages (from requests>=2.23.0->pandas-profiling) (2020.6.20)\n",
      "Requirement already satisfied, skipping upgrade: chardet<4,>=3.0.2 in c:\\users\\aniket\\anaconda3\\lib\\site-packages (from requests>=2.23.0->pandas-profiling) (3.0.4)\n",
      "Requirement already satisfied, skipping upgrade: ipython>=4.0.0; python_version >= \"3.3\" in c:\\users\\aniket\\anaconda3\\lib\\site-packages (from ipywidgets>=7.5.1->pandas-profiling) (7.16.1)\n",
      "Requirement already satisfied, skipping upgrade: ipykernel>=4.5.1 in c:\\users\\aniket\\anaconda3\\lib\\site-packages (from ipywidgets>=7.5.1->pandas-profiling) (5.3.2)\n",
      "Requirement already satisfied, skipping upgrade: nbformat>=4.2.0 in c:\\users\\aniket\\anaconda3\\lib\\site-packages (from ipywidgets>=7.5.1->pandas-profiling) (5.0.7)\n",
      "Requirement already satisfied, skipping upgrade: traitlets>=4.3.1 in c:\\users\\aniket\\anaconda3\\lib\\site-packages (from ipywidgets>=7.5.1->pandas-profiling) (4.3.3)\n",
      "Requirement already satisfied, skipping upgrade: widgetsnbextension~=3.5.0 in c:\\users\\aniket\\anaconda3\\lib\\site-packages (from ipywidgets>=7.5.1->pandas-profiling) (3.5.1)\n",
      "Requirement already satisfied, skipping upgrade: MarkupSafe>=0.23 in c:\\users\\aniket\\anaconda3\\lib\\site-packages (from jinja2>=2.11.1->pandas-profiling) (1.1.1)\n",
      "Requirement already satisfied, skipping upgrade: six>=1.5 in c:\\users\\aniket\\anaconda3\\lib\\site-packages (from python-dateutil>=2.6.1->pandas!=1.0.0,!=1.0.1,!=1.0.2,!=1.1.0,>=0.25.3->pandas-profiling) (1.15.0)\n",
      "Requirement already satisfied, skipping upgrade: decorator>=4.3.0 in c:\\users\\aniket\\anaconda3\\lib\\site-packages (from networkx>=2.4->visions[type_image_path]==0.5.0->pandas-profiling) (4.4.2)\n",
      "Requirement already satisfied, skipping upgrade: PyWavelets in c:\\users\\aniket\\anaconda3\\lib\\site-packages (from imagehash; extra == \"type_image_path\"->visions[type_image_path]==0.5.0->pandas-profiling) (1.1.1)\n",
      "Requirement already satisfied, skipping upgrade: llvmlite<0.34,>=0.33.0.dev0 in c:\\users\\aniket\\anaconda3\\lib\\site-packages (from numba>=0.38.1->phik>=0.9.10->pandas-profiling) (0.33.0+1.g022ab0f)\n",
      "Requirement already satisfied, skipping upgrade: setuptools in c:\\users\\aniket\\anaconda3\\lib\\site-packages (from numba>=0.38.1->phik>=0.9.10->pandas-profiling) (49.2.0.post20200714)\n",
      "Requirement already satisfied, skipping upgrade: jedi>=0.10 in c:\\users\\aniket\\anaconda3\\lib\\site-packages (from ipython>=4.0.0; python_version >= \"3.3\"->ipywidgets>=7.5.1->pandas-profiling) (0.17.1)\n",
      "Requirement already satisfied, skipping upgrade: pickleshare in c:\\users\\aniket\\anaconda3\\lib\\site-packages (from ipython>=4.0.0; python_version >= \"3.3\"->ipywidgets>=7.5.1->pandas-profiling) (0.7.5)\n",
      "Requirement already satisfied, skipping upgrade: prompt-toolkit!=3.0.0,!=3.0.1,<3.1.0,>=2.0.0 in c:\\users\\aniket\\anaconda3\\lib\\site-packages (from ipython>=4.0.0; python_version >= \"3.3\"->ipywidgets>=7.5.1->pandas-profiling) (3.0.5)\n",
      "Requirement already satisfied, skipping upgrade: pygments in c:\\users\\aniket\\anaconda3\\lib\\site-packages (from ipython>=4.0.0; python_version >= \"3.3\"->ipywidgets>=7.5.1->pandas-profiling) (2.6.1)\n",
      "Requirement already satisfied, skipping upgrade: backcall in c:\\users\\aniket\\anaconda3\\lib\\site-packages (from ipython>=4.0.0; python_version >= \"3.3\"->ipywidgets>=7.5.1->pandas-profiling) (0.2.0)\n",
      "Requirement already satisfied, skipping upgrade: colorama; sys_platform == \"win32\" in c:\\users\\aniket\\anaconda3\\lib\\site-packages (from ipython>=4.0.0; python_version >= \"3.3\"->ipywidgets>=7.5.1->pandas-profiling) (0.4.3)\n",
      "Requirement already satisfied, skipping upgrade: jupyter-client in c:\\users\\aniket\\anaconda3\\lib\\site-packages (from ipykernel>=4.5.1->ipywidgets>=7.5.1->pandas-profiling) (6.1.6)\n",
      "Requirement already satisfied, skipping upgrade: tornado>=4.2 in c:\\users\\aniket\\anaconda3\\lib\\site-packages (from ipykernel>=4.5.1->ipywidgets>=7.5.1->pandas-profiling) (6.0.4)\n",
      "Requirement already satisfied, skipping upgrade: ipython-genutils in c:\\users\\aniket\\anaconda3\\lib\\site-packages (from nbformat>=4.2.0->ipywidgets>=7.5.1->pandas-profiling) (0.2.0)\n",
      "Requirement already satisfied, skipping upgrade: jupyter-core in c:\\users\\aniket\\anaconda3\\lib\\site-packages (from nbformat>=4.2.0->ipywidgets>=7.5.1->pandas-profiling) (4.6.3)\n",
      "Requirement already satisfied, skipping upgrade: jsonschema!=2.5.0,>=2.4 in c:\\users\\aniket\\anaconda3\\lib\\site-packages (from nbformat>=4.2.0->ipywidgets>=7.5.1->pandas-profiling) (3.2.0)\n"
     ]
    },
    {
     "name": "stdout",
     "output_type": "stream",
     "text": [
      "Requirement already satisfied, skipping upgrade: notebook>=4.4.1 in c:\\users\\aniket\\anaconda3\\lib\\site-packages (from widgetsnbextension~=3.5.0->ipywidgets>=7.5.1->pandas-profiling) (6.0.3)\n",
      "Requirement already satisfied, skipping upgrade: parso<0.8.0,>=0.7.0 in c:\\users\\aniket\\anaconda3\\lib\\site-packages (from jedi>=0.10->ipython>=4.0.0; python_version >= \"3.3\"->ipywidgets>=7.5.1->pandas-profiling) (0.7.0)\n",
      "Requirement already satisfied, skipping upgrade: wcwidth in c:\\users\\aniket\\anaconda3\\lib\\site-packages (from prompt-toolkit!=3.0.0,!=3.0.1,<3.1.0,>=2.0.0->ipython>=4.0.0; python_version >= \"3.3\"->ipywidgets>=7.5.1->pandas-profiling) (0.2.5)\n",
      "Requirement already satisfied, skipping upgrade: pyzmq>=13 in c:\\users\\aniket\\anaconda3\\lib\\site-packages (from jupyter-client->ipykernel>=4.5.1->ipywidgets>=7.5.1->pandas-profiling) (19.0.1)\n",
      "Requirement already satisfied, skipping upgrade: pywin32>=1.0; sys_platform == \"win32\" in c:\\users\\aniket\\anaconda3\\lib\\site-packages (from jupyter-core->nbformat>=4.2.0->ipywidgets>=7.5.1->pandas-profiling) (227)\n",
      "Requirement already satisfied, skipping upgrade: pyrsistent>=0.14.0 in c:\\users\\aniket\\anaconda3\\lib\\site-packages (from jsonschema!=2.5.0,>=2.4->nbformat>=4.2.0->ipywidgets>=7.5.1->pandas-profiling) (0.16.0)\n",
      "Requirement already satisfied, skipping upgrade: prometheus-client in c:\\users\\aniket\\anaconda3\\lib\\site-packages (from notebook>=4.4.1->widgetsnbextension~=3.5.0->ipywidgets>=7.5.1->pandas-profiling) (0.8.0)\n",
      "Requirement already satisfied, skipping upgrade: Send2Trash in c:\\users\\aniket\\anaconda3\\lib\\site-packages (from notebook>=4.4.1->widgetsnbextension~=3.5.0->ipywidgets>=7.5.1->pandas-profiling) (1.5.0)\n",
      "Requirement already satisfied, skipping upgrade: nbconvert in c:\\users\\aniket\\anaconda3\\lib\\site-packages (from notebook>=4.4.1->widgetsnbextension~=3.5.0->ipywidgets>=7.5.1->pandas-profiling) (5.6.1)\n",
      "Requirement already satisfied, skipping upgrade: terminado>=0.8.1 in c:\\users\\aniket\\anaconda3\\lib\\site-packages (from notebook>=4.4.1->widgetsnbextension~=3.5.0->ipywidgets>=7.5.1->pandas-profiling) (0.8.3)\n",
      "Requirement already satisfied, skipping upgrade: pandocfilters>=1.4.1 in c:\\users\\aniket\\anaconda3\\lib\\site-packages (from nbconvert->notebook>=4.4.1->widgetsnbextension~=3.5.0->ipywidgets>=7.5.1->pandas-profiling) (1.4.2)\n",
      "Requirement already satisfied, skipping upgrade: entrypoints>=0.2.2 in c:\\users\\aniket\\anaconda3\\lib\\site-packages (from nbconvert->notebook>=4.4.1->widgetsnbextension~=3.5.0->ipywidgets>=7.5.1->pandas-profiling) (0.3)\n",
      "Requirement already satisfied, skipping upgrade: testpath in c:\\users\\aniket\\anaconda3\\lib\\site-packages (from nbconvert->notebook>=4.4.1->widgetsnbextension~=3.5.0->ipywidgets>=7.5.1->pandas-profiling) (0.4.4)\n",
      "Requirement already satisfied, skipping upgrade: mistune<2,>=0.8.1 in c:\\users\\aniket\\anaconda3\\lib\\site-packages (from nbconvert->notebook>=4.4.1->widgetsnbextension~=3.5.0->ipywidgets>=7.5.1->pandas-profiling) (0.8.4)\n",
      "Requirement already satisfied, skipping upgrade: defusedxml in c:\\users\\aniket\\anaconda3\\lib\\site-packages (from nbconvert->notebook>=4.4.1->widgetsnbextension~=3.5.0->ipywidgets>=7.5.1->pandas-profiling) (0.6.0)\n",
      "Requirement already satisfied, skipping upgrade: bleach in c:\\users\\aniket\\anaconda3\\lib\\site-packages (from nbconvert->notebook>=4.4.1->widgetsnbextension~=3.5.0->ipywidgets>=7.5.1->pandas-profiling) (3.1.5)\n",
      "Requirement already satisfied, skipping upgrade: packaging in c:\\users\\aniket\\anaconda3\\lib\\site-packages (from bleach->nbconvert->notebook>=4.4.1->widgetsnbextension~=3.5.0->ipywidgets>=7.5.1->pandas-profiling) (20.4)\n",
      "Requirement already satisfied, skipping upgrade: webencodings in c:\\users\\aniket\\anaconda3\\lib\\site-packages (from bleach->nbconvert->notebook>=4.4.1->widgetsnbextension~=3.5.0->ipywidgets>=7.5.1->pandas-profiling) (0.5.1)\n"
     ]
    }
   ],
   "source": [
    "!pip install pandas-profiling --upgrade"
   ]
  },
  {
   "cell_type": "code",
   "execution_count": 5,
   "metadata": {},
   "outputs": [
    {
     "data": {
      "application/vnd.jupyter.widget-view+json": {
       "model_id": "5dfd738d7ee34b83ad0e03413fee5a78",
       "version_major": 2,
       "version_minor": 0
      },
      "text/plain": [
       "HBox(children=(FloatProgress(value=0.0, description='Summarize dataset', max=25.0, style=ProgressStyle(descrip…"
      ]
     },
     "metadata": {},
     "output_type": "display_data"
    },
    {
     "name": "stdout",
     "output_type": "stream",
     "text": [
      "\n"
     ]
    },
    {
     "data": {
      "application/vnd.jupyter.widget-view+json": {
       "model_id": "08319ad662894dd5a8bc493e3c7b531c",
       "version_major": 2,
       "version_minor": 0
      },
      "text/plain": [
       "HBox(children=(FloatProgress(value=0.0, description='Generate report structure', max=1.0, style=ProgressStyle(…"
      ]
     },
     "metadata": {},
     "output_type": "display_data"
    },
    {
     "name": "stdout",
     "output_type": "stream",
     "text": [
      "\n"
     ]
    },
    {
     "data": {
      "application/vnd.jupyter.widget-view+json": {
       "model_id": "f376426617214c91873a02ccf01166e4",
       "version_major": 2,
       "version_minor": 0
      },
      "text/plain": [
       "HBox(children=(FloatProgress(value=0.0, description='Render HTML', max=1.0, style=ProgressStyle(description_wi…"
      ]
     },
     "metadata": {},
     "output_type": "display_data"
    },
    {
     "name": "stdout",
     "output_type": "stream",
     "text": [
      "\n"
     ]
    },
    {
     "data": {
      "application/vnd.jupyter.widget-view+json": {
       "model_id": "44a995bcb8b9454da2fe37494c8b9237",
       "version_major": 2,
       "version_minor": 0
      },
      "text/plain": [
       "HBox(children=(FloatProgress(value=0.0, description='Export report to file', max=1.0, style=ProgressStyle(desc…"
      ]
     },
     "metadata": {},
     "output_type": "display_data"
    },
    {
     "name": "stdout",
     "output_type": "stream",
     "text": [
      "\n"
     ]
    }
   ],
   "source": [
    "import pandas_profiling \n",
    "profile = df_epl.profile_report(title = \"EPL Dataset\")\n",
    "profile.to_file(output_file = \"epldataset.html\")"
   ]
  },
  {
   "cell_type": "markdown",
   "metadata": {},
   "source": [
    "<a id=section4></a>\n",
    "### 4. Pre-processing of dataset"
   ]
  },
  {
   "cell_type": "code",
   "execution_count": 6,
   "metadata": {},
   "outputs": [
    {
     "name": "stdout",
     "output_type": "stream",
     "text": [
      "There are 0 duplicates out of total 9664 rows.\n"
     ]
    }
   ],
   "source": [
    "duplicates = df_epl[df_epl.duplicated(keep = 'first')]\n",
    "print('There are {} duplicates out of total {} rows.'.format(duplicates.shape[0], df_epl.shape[0]))"
   ]
  },
  {
   "cell_type": "code",
   "execution_count": 7,
   "metadata": {},
   "outputs": [],
   "source": [
    "df_epl[\"Season\"] = df_epl[\"Season\"].astype('str')\n",
    "df_epl[\"HomeTeam\"] = df_epl[\"HomeTeam\"].astype('category')\n",
    "df_epl[\"AwayTeam\"] = df_epl[\"AwayTeam\"].astype('category')\n",
    "df_epl[\"FTHG\"] = df_epl[\"FTHG\"].astype(int)\n",
    "df_epl[\"FTAG\"] = df_epl[\"FTAG\"].astype(int)\n",
    "df_epl[\"FTR\"] = df_epl[\"FTR\"].astype('category')\n",
    "df_epl[\"HTHG\"] = df_epl[\"HTHG\"].astype(float)\n",
    "df_epl[\"HTAG\"] = df_epl[\"HTAG\"].astype(float)\n",
    "df_epl[\"HTR\"] = df_epl[\"HTR\"].astype('category')"
   ]
  },
  {
   "cell_type": "code",
   "execution_count": 8,
   "metadata": {},
   "outputs": [
    {
     "name": "stdout",
     "output_type": "stream",
     "text": [
      "<class 'pandas.core.frame.DataFrame'>\n",
      "RangeIndex: 9664 entries, 0 to 9663\n",
      "Data columns (total 11 columns):\n",
      " #   Column    Non-Null Count  Dtype   \n",
      "---  ------    --------------  -----   \n",
      " 0   Div       9664 non-null   object  \n",
      " 1   Date      9664 non-null   object  \n",
      " 2   HomeTeam  9664 non-null   category\n",
      " 3   AwayTeam  9664 non-null   category\n",
      " 4   FTHG      9664 non-null   int32   \n",
      " 5   FTAG      9664 non-null   int32   \n",
      " 6   FTR       9664 non-null   category\n",
      " 7   HTHG      8740 non-null   float64 \n",
      " 8   HTAG      8740 non-null   float64 \n",
      " 9   HTR       8740 non-null   category\n",
      " 10  Season    9664 non-null   object  \n",
      "dtypes: category(4), float64(2), int32(2), object(3)\n",
      "memory usage: 496.9+ KB\n"
     ]
    }
   ],
   "source": [
    "df_epl.info()"
   ]
  },
  {
   "cell_type": "markdown",
   "metadata": {},
   "source": [
    "<a id=section5></a>\n",
    "### 5. Post-profiling of dataset"
   ]
  },
  {
   "cell_type": "code",
   "execution_count": 9,
   "metadata": {},
   "outputs": [
    {
     "data": {
      "application/vnd.jupyter.widget-view+json": {
       "model_id": "85aae5251c814c6f99ba96155cb3291a",
       "version_major": 2,
       "version_minor": 0
      },
      "text/plain": [
       "HBox(children=(FloatProgress(value=0.0, description='Summarize dataset', max=25.0, style=ProgressStyle(descrip…"
      ]
     },
     "metadata": {},
     "output_type": "display_data"
    },
    {
     "name": "stdout",
     "output_type": "stream",
     "text": [
      "\n"
     ]
    },
    {
     "data": {
      "application/vnd.jupyter.widget-view+json": {
       "model_id": "c76e73cf74a4411d892e687388dfb95f",
       "version_major": 2,
       "version_minor": 0
      },
      "text/plain": [
       "HBox(children=(FloatProgress(value=0.0, description='Generate report structure', max=1.0, style=ProgressStyle(…"
      ]
     },
     "metadata": {},
     "output_type": "display_data"
    },
    {
     "name": "stdout",
     "output_type": "stream",
     "text": [
      "\n"
     ]
    },
    {
     "data": {
      "application/vnd.jupyter.widget-view+json": {
       "model_id": "ac898fb7d8674fed804a775573f0bcdd",
       "version_major": 2,
       "version_minor": 0
      },
      "text/plain": [
       "HBox(children=(FloatProgress(value=0.0, description='Render HTML', max=1.0, style=ProgressStyle(description_wi…"
      ]
     },
     "metadata": {},
     "output_type": "display_data"
    },
    {
     "name": "stdout",
     "output_type": "stream",
     "text": [
      "\n"
     ]
    },
    {
     "data": {
      "application/vnd.jupyter.widget-view+json": {
       "model_id": "93ae48dfc86547979c4e3605dd6b501d",
       "version_major": 2,
       "version_minor": 0
      },
      "text/plain": [
       "HBox(children=(FloatProgress(value=0.0, description='Export report to file', max=1.0, style=ProgressStyle(desc…"
      ]
     },
     "metadata": {},
     "output_type": "display_data"
    },
    {
     "name": "stdout",
     "output_type": "stream",
     "text": [
      "\n"
     ]
    }
   ],
   "source": [
    "import pandas_profiling \n",
    "profile = df_epl.profile_report(title = \"EPL Dataset\")\n",
    "profile.to_file(output_file = \"epldatasets.html\")"
   ]
  },
  {
   "cell_type": "code",
   "execution_count": 11,
   "metadata": {
    "scrolled": true
   },
   "outputs": [
    {
     "data": {
      "text/plain": [
       "<bound method IndexOpsMixin.nunique of 0             Coventry\n",
       "1                  QPR\n",
       "2            Blackburn\n",
       "3       Sheffield Weds\n",
       "4                Leeds\n",
       "             ...      \n",
       "9659           Chelsea\n",
       "9660          Man City\n",
       "9661             Stoke\n",
       "9662         Leicester\n",
       "9663           Everton\n",
       "Name: AwayTeam, Length: 9664, dtype: category\n",
       "Categories (50, object): [Arsenal, Aston Villa, Barnsley, Birmingham, ..., West Ham, Wigan, Wimbledon, Wolves]>"
      ]
     },
     "execution_count": 11,
     "metadata": {},
     "output_type": "execute_result"
    }
   ],
   "source": [
    "df_epl['AwayTeam'].nunique"
   ]
  },
  {
   "cell_type": "code",
   "execution_count": 24,
   "metadata": {},
   "outputs": [
    {
     "data": {
      "text/plain": [
       "[Coventry, QPR, Blackburn, Sheffield Weds, Leeds, ..., Swansea, Cardiff, Bournemouth, Huddersfield, Brighton]\n",
       "Length: 50\n",
       "Categories (50, object): [Coventry, QPR, Blackburn, Sheffield Weds, ..., Cardiff, Bournemouth, Huddersfield, Brighton]"
      ]
     },
     "execution_count": 24,
     "metadata": {},
     "output_type": "execute_result"
    }
   ],
   "source": [
    "df_epl['AwayTeam'].unique()"
   ]
  },
  {
   "cell_type": "code",
   "execution_count": 10,
   "metadata": {
    "scrolled": false
   },
   "outputs": [
    {
     "data": {
      "text/plain": [
       "<bound method IndexOpsMixin.nunique of 0           Arsenal\n",
       "1       Aston Villa\n",
       "2           Chelsea\n",
       "3         Liverpool\n",
       "4          Man City\n",
       "           ...     \n",
       "9659      Newcastle\n",
       "9660    Southampton\n",
       "9661        Swansea\n",
       "9662      Tottenham\n",
       "9663       West Ham\n",
       "Name: HomeTeam, Length: 9664, dtype: category\n",
       "Categories (50, object): [Arsenal, Aston Villa, Barnsley, Birmingham, ..., West Ham, Wigan, Wimbledon, Wolves]>"
      ]
     },
     "execution_count": 10,
     "metadata": {},
     "output_type": "execute_result"
    }
   ],
   "source": [
    "df_epl['HomeTeam'].nunique"
   ]
  },
  {
   "cell_type": "code",
   "execution_count": 25,
   "metadata": {},
   "outputs": [
    {
     "data": {
      "text/plain": [
       "[Arsenal, Aston Villa, Chelsea, Liverpool, Man City, ..., Swansea, Cardiff, Bournemouth, Brighton, Huddersfield]\n",
       "Length: 50\n",
       "Categories (50, object): [Arsenal, Aston Villa, Chelsea, Liverpool, ..., Cardiff, Bournemouth, Brighton, Huddersfield]"
      ]
     },
     "execution_count": 25,
     "metadata": {},
     "output_type": "execute_result"
    }
   ],
   "source": [
    "df_epl['HomeTeam'].unique()"
   ]
  },
  {
   "cell_type": "markdown",
   "metadata": {},
   "source": [
    "Number of games played by **Home team**"
   ]
  },
  {
   "cell_type": "code",
   "execution_count": 12,
   "metadata": {},
   "outputs": [
    {
     "data": {
      "text/plain": [
       "Liverpool           479\n",
       "Tottenham           479\n",
       "Chelsea             479\n",
       "Everton             479\n",
       "Man United          479\n",
       "Arsenal             479\n",
       "Newcastle           441\n",
       "Aston Villa         441\n",
       "West Ham            422\n",
       "Man City            384\n",
       "Southampton         346\n",
       "Blackburn           327\n",
       "Sunderland          304\n",
       "Middlesbrough       247\n",
       "Fulham              247\n",
       "Bolton              247\n",
       "Leicester           230\n",
       "West Brom           228\n",
       "Leeds               213\n",
       "Stoke               190\n",
       "Coventry            156\n",
       "Crystal Palace      154\n",
       "Charlton            152\n",
       "Wigan               152\n",
       "Norwich             137\n",
       "Sheffield Weds      137\n",
       "Wimbledon           137\n",
       "Derby               133\n",
       "Portsmouth          133\n",
       "Birmingham          133\n",
       "Swansea             133\n",
       "QPR                 118\n",
       "Hull                 95\n",
       "Watford              95\n",
       "Ipswich              80\n",
       "Nott'm Forest        78\n",
       "Burnley              76\n",
       "Wolves               76\n",
       "Bournemouth          57\n",
       "Reading              57\n",
       "Sheffield United     40\n",
       "Bradford             38\n",
       "Swindon              21\n",
       "Oldham               21\n",
       "Huddersfield         19\n",
       "Middlesboro          19\n",
       "Cardiff              19\n",
       "Brighton             19\n",
       "Blackpool            19\n",
       "Barnsley             19\n",
       "Name: HomeTeam, dtype: int64"
      ]
     },
     "execution_count": 12,
     "metadata": {},
     "output_type": "execute_result"
    }
   ],
   "source": [
    "df_epl['HomeTeam'].value_counts()"
   ]
  },
  {
   "cell_type": "code",
   "execution_count": 14,
   "metadata": {
    "scrolled": true
   },
   "outputs": [
    {
     "data": {
      "image/png": "[encoded data removed]",
      "text/plain": [
       "<Figure size 1224x432 with 1 Axes>"
      ]
     },
     "metadata": {
      "needs_background": "light"
     },
     "output_type": "display_data"
    }
   ],
   "source": [
    "plt.figure(figsize=(17, 6))\n",
    "sns.countplot(x='HomeTeam', data=df_epl)\n",
    "plt.xticks(rotation='vertical')\n",
    "plt.show()"
   ]
  },
  {
   "cell_type": "markdown",
   "metadata": {},
   "source": [
    "Number of games played by **Away team**"
   ]
  },
  {
   "cell_type": "code",
   "execution_count": 13,
   "metadata": {
    "scrolled": true
   },
   "outputs": [
    {
     "data": {
      "text/plain": [
       "Liverpool           479\n",
       "Tottenham           479\n",
       "Chelsea             479\n",
       "Everton             479\n",
       "Man United          479\n",
       "Arsenal             479\n",
       "Newcastle           441\n",
       "Aston Villa         441\n",
       "West Ham            422\n",
       "Man City            384\n",
       "Southampton         346\n",
       "Blackburn           327\n",
       "Sunderland          304\n",
       "Middlesbrough       247\n",
       "Fulham              247\n",
       "Bolton              247\n",
       "Leicester           230\n",
       "West Brom           228\n",
       "Leeds               213\n",
       "Stoke               190\n",
       "Coventry            156\n",
       "Crystal Palace      154\n",
       "Charlton            152\n",
       "Wigan               152\n",
       "Norwich             137\n",
       "Sheffield Weds      137\n",
       "Wimbledon           137\n",
       "Derby               133\n",
       "Portsmouth          133\n",
       "Birmingham          133\n",
       "Swansea             133\n",
       "QPR                 118\n",
       "Hull                 95\n",
       "Watford              95\n",
       "Ipswich              80\n",
       "Nott'm Forest        78\n",
       "Burnley              76\n",
       "Wolves               76\n",
       "Bournemouth          57\n",
       "Reading              57\n",
       "Sheffield United     40\n",
       "Bradford             38\n",
       "Swindon              21\n",
       "Oldham               21\n",
       "Huddersfield         19\n",
       "Middlesboro          19\n",
       "Cardiff              19\n",
       "Brighton             19\n",
       "Blackpool            19\n",
       "Barnsley             19\n",
       "Name: AwayTeam, dtype: int64"
      ]
     },
     "execution_count": 13,
     "metadata": {},
     "output_type": "execute_result"
    }
   ],
   "source": [
    "df_epl['AwayTeam'].value_counts()"
   ]
  },
  {
   "cell_type": "code",
   "execution_count": 49,
   "metadata": {},
   "outputs": [
    {
     "data": {
      "image/png": "[encoded data removed]",
      "text/plain": [
       "<Figure size 1224x432 with 1 Axes>"
      ]
     },
     "metadata": {
      "needs_background": "light"
     },
     "output_type": "display_data"
    },
    {
     "data": {
      "text/plain": [
       "<Figure size 432x288 with 0 Axes>"
      ]
     },
     "metadata": {},
     "output_type": "display_data"
    }
   ],
   "source": [
    "plt.figure(figsize=(17, 6))\n",
    "sns.countplot(x='AwayTeam', data=df_epl)\n",
    "plt.xticks(rotation='vertical')\n",
    "plt.show()\n",
    "plt.savefig('C:/Users/aniket/Desktop/My files/Away total game.jpg')"
   ]
  },
  {
   "cell_type": "markdown",
   "metadata": {},
   "source": [
    "<a id=section501></a>\n",
    "### 5.1 Goal scoring behavior of teams"
   ]
  },
  {
   "cell_type": "markdown",
   "metadata": {},
   "source": [
    "**Total number of goals scored by team at Home at full time**"
   ]
  },
  {
   "cell_type": "code",
   "execution_count": 16,
   "metadata": {},
   "outputs": [
    {
     "data": {
      "text/plain": [
       "1    3124\n",
       "2    2356\n",
       "0    2261\n",
       "3    1176\n",
       "4     497\n",
       "5     166\n",
       "6      53\n",
       "7      23\n",
       "8       6\n",
       "9       2\n",
       "Name: FTHG, dtype: int64"
      ]
     },
     "execution_count": 16,
     "metadata": {},
     "output_type": "execute_result"
    }
   ],
   "source": [
    "df_epl['FTHG'].value_counts()"
   ]
  },
  {
   "cell_type": "code",
   "execution_count": 51,
   "metadata": {},
   "outputs": [
    {
     "data": {
      "text/plain": [
       "<matplotlib.axes._subplots.AxesSubplot at 0x1d385a50fd0>"
      ]
     },
     "execution_count": 51,
     "metadata": {},
     "output_type": "execute_result"
    },
    {
     "data": {
      "image/png": "[encoded data removed]",
      "text/plain": [
       "<Figure size 1080x504 with 1 Axes>"
      ]
     },
     "metadata": {
      "needs_background": "light"
     },
     "output_type": "display_data"
    }
   ],
   "source": [
    "df_epl['FTHG'].value_counts().plot.bar(figsize=(15,7), colormap='Dark2', fontsize=13)"
   ]
  },
  {
   "cell_type": "markdown",
   "metadata": {},
   "source": [
    "From above we can see that single goal has been scored for more than 3000 times at Home by Home team"
   ]
  },
  {
   "cell_type": "markdown",
   "metadata": {},
   "source": [
    "**Total number of goals scored by team at Away at full time**"
   ]
  },
  {
   "cell_type": "code",
   "execution_count": 18,
   "metadata": {},
   "outputs": [
    {
     "data": {
      "text/plain": [
       "1    3366\n",
       "0    3359\n",
       "2    1804\n",
       "3     791\n",
       "4     260\n",
       "5      57\n",
       "6      24\n",
       "7       2\n",
       "8       1\n",
       "Name: FTAG, dtype: int64"
      ]
     },
     "execution_count": 18,
     "metadata": {},
     "output_type": "execute_result"
    }
   ],
   "source": [
    "df_epl['FTAG'].value_counts()"
   ]
  },
  {
   "cell_type": "code",
   "execution_count": 19,
   "metadata": {
    "scrolled": false
   },
   "outputs": [
    {
     "data": {
      "text/plain": [
       "<matplotlib.axes._subplots.AxesSubplot at 0x2a094be1ee0>"
      ]
     },
     "execution_count": 19,
     "metadata": {},
     "output_type": "execute_result"
    },
    {
     "data": {
      "image/png": "[encoded data removed]",
      "text/plain": [
       "<Figure size 1080x504 with 1 Axes>"
      ]
     },
     "metadata": {
      "needs_background": "light"
     },
     "output_type": "display_data"
    }
   ],
   "source": [
    "df_epl['FTAG'].value_counts().plot.bar(figsize=(15,7), colormap='Dark2', fontsize=13)"
   ]
  },
  {
   "cell_type": "markdown",
   "metadata": {},
   "source": [
    "From above we can see that single goal has been scored for more than 3000 times on away ground by Away team"
   ]
  },
  {
   "cell_type": "code",
   "execution_count": 36,
   "metadata": {
    "scrolled": true
   },
   "outputs": [
    {
     "data": {
      "text/plain": [
       "Text(0.5, 1.0, '')"
      ]
     },
     "execution_count": 36,
     "metadata": {},
     "output_type": "execute_result"
    },
    {
     "data": {
      "image/png": "[encoded data removed]",
      "text/plain": [
       "<Figure size 1296x1080 with 1 Axes>"
      ]
     },
     "metadata": {
      "needs_background": "light"
     },
     "output_type": "display_data"
    }
   ],
   "source": [
    "#Home team goal scored\n",
    "plt.rcParams['figure.figsize'] = [18, 15]\n",
    "df_epl[['HomeTeam',\n",
    " 'FTHG']].groupby('HomeTeam').sum().plot.barh(\n",
    " color='orange')\n",
    "plt.title('')\n"
   ]
  },
  {
   "cell_type": "markdown",
   "metadata": {},
   "source": [
    "So, Manchester United has scored more goals at Home"
   ]
  },
  {
   "cell_type": "code",
   "execution_count": 37,
   "metadata": {},
   "outputs": [
    {
     "data": {
      "text/plain": [
       "Text(0.5, 1.0, '')"
      ]
     },
     "execution_count": 37,
     "metadata": {},
     "output_type": "execute_result"
    },
    {
     "data": {
      "image/png": "[encoded data removed]",
      "text/plain": [
       "<Figure size 1296x1080 with 1 Axes>"
      ]
     },
     "metadata": {
      "needs_background": "light"
     },
     "output_type": "display_data"
    }
   ],
   "source": [
    "#Away teams goal scored\n",
    "plt.rcParams['figure.figsize'] = [18, 15]\n",
    "df_epl[['AwayTeam',\n",
    " 'FTAG']].groupby('AwayTeam').sum().plot.barh(\n",
    " color='blue')\n",
    "plt.title('')"
   ]
  },
  {
   "cell_type": "markdown",
   "metadata": {},
   "source": [
    "So, Manchester united has scored more goals on away ground for past 26 years"
   ]
  },
  {
   "cell_type": "markdown",
   "metadata": {},
   "source": [
    "<a id=section502></a>\n",
    "### 5.2 Performance of teams over years"
   ]
  },
  {
   "cell_type": "code",
   "execution_count": 16,
   "metadata": {},
   "outputs": [],
   "source": [
    "conditions=[df_epl['FTR']=='A',df_epl['FTR']=='H',df_epl['FTR']=='D']\n",
    "choices = [df_epl['AwayTeam'],df_epl['HomeTeam'],'Draw']\n",
    "df_epl['Winner']=np.select(conditions,choices)"
   ]
  },
  {
   "cell_type": "code",
   "execution_count": 17,
   "metadata": {},
   "outputs": [
    {
     "data": {
      "text/html": [
       "<div>\n",
       "<style scoped>\n",
       "    .dataframe tbody tr th:only-of-type {\n",
       "        vertical-align: middle;\n",
       "    }\n",
       "\n",
       "    .dataframe tbody tr th {\n",
       "        vertical-align: top;\n",
       "    }\n",
       "\n",
       "    .dataframe thead th {\n",
       "        text-align: right;\n",
       "    }\n",
       "</style>\n",
       "<table border=\"1\" class=\"dataframe\">\n",
       "  <thead>\n",
       "    <tr style=\"text-align: right;\">\n",
       "      <th></th>\n",
       "      <th>Season</th>\n",
       "      <th>Winner</th>\n",
       "      <th>counts</th>\n",
       "    </tr>\n",
       "  </thead>\n",
       "  <tbody>\n",
       "    <tr>\n",
       "      <th>5</th>\n",
       "      <td>1993-94</td>\n",
       "      <td>Draw</td>\n",
       "      <td>142</td>\n",
       "    </tr>\n",
       "    <tr>\n",
       "      <th>11</th>\n",
       "      <td>1993-94</td>\n",
       "      <td>Man United</td>\n",
       "      <td>27</td>\n",
       "    </tr>\n",
       "    <tr>\n",
       "      <th>2</th>\n",
       "      <td>1993-94</td>\n",
       "      <td>Blackburn</td>\n",
       "      <td>25</td>\n",
       "    </tr>\n",
       "    <tr>\n",
       "      <th>12</th>\n",
       "      <td>1993-94</td>\n",
       "      <td>Newcastle</td>\n",
       "      <td>23</td>\n",
       "    </tr>\n",
       "    <tr>\n",
       "      <th>0</th>\n",
       "      <td>1993-94</td>\n",
       "      <td>Arsenal</td>\n",
       "      <td>18</td>\n",
       "    </tr>\n",
       "    <tr>\n",
       "      <th>...</th>\n",
       "      <td>...</td>\n",
       "      <td>...</td>\n",
       "      <td>...</td>\n",
       "    </tr>\n",
       "    <tr>\n",
       "      <th>516</th>\n",
       "      <td>2017-18</td>\n",
       "      <td>Huddersfield</td>\n",
       "      <td>9</td>\n",
       "    </tr>\n",
       "    <tr>\n",
       "      <th>524</th>\n",
       "      <td>2017-18</td>\n",
       "      <td>Swansea</td>\n",
       "      <td>8</td>\n",
       "    </tr>\n",
       "    <tr>\n",
       "      <th>522</th>\n",
       "      <td>2017-18</td>\n",
       "      <td>Southampton</td>\n",
       "      <td>7</td>\n",
       "    </tr>\n",
       "    <tr>\n",
       "      <th>523</th>\n",
       "      <td>2017-18</td>\n",
       "      <td>Stoke</td>\n",
       "      <td>7</td>\n",
       "    </tr>\n",
       "    <tr>\n",
       "      <th>527</th>\n",
       "      <td>2017-18</td>\n",
       "      <td>West Brom</td>\n",
       "      <td>6</td>\n",
       "    </tr>\n",
       "  </tbody>\n",
       "</table>\n",
       "<p>529 rows × 3 columns</p>\n",
       "</div>"
      ],
      "text/plain": [
       "      Season        Winner  counts\n",
       "5    1993-94          Draw     142\n",
       "11   1993-94    Man United      27\n",
       "2    1993-94     Blackburn      25\n",
       "12   1993-94     Newcastle      23\n",
       "0    1993-94       Arsenal      18\n",
       "..       ...           ...     ...\n",
       "516  2017-18  Huddersfield       9\n",
       "524  2017-18       Swansea       8\n",
       "522  2017-18   Southampton       7\n",
       "523  2017-18         Stoke       7\n",
       "527  2017-18     West Brom       6\n",
       "\n",
       "[529 rows x 3 columns]"
      ]
     },
     "execution_count": 17,
     "metadata": {},
     "output_type": "execute_result"
    }
   ],
   "source": [
    "a=df_epl.loc[:,['Season','Winner']]\n",
    "b=a.groupby(['Season', 'Winner']).size().reset_index(name='counts')\n",
    "c=b.sort_values(['Season', 'counts'], ascending=[True, False])\n",
    "c"
   ]
  },
  {
   "cell_type": "markdown",
   "metadata": {},
   "source": [
    "Thus from the above data we can see that every season has a lot of draws. Though these matches add points to the overall score for each team, it cannot be taken as a match won and thus **To further analyse we can check without the Draw matches**."
   ]
  },
  {
   "cell_type": "code",
   "execution_count": 18,
   "metadata": {},
   "outputs": [
    {
     "data": {
      "text/html": [
       "<div>\n",
       "<style scoped>\n",
       "    .dataframe tbody tr th:only-of-type {\n",
       "        vertical-align: middle;\n",
       "    }\n",
       "\n",
       "    .dataframe tbody tr th {\n",
       "        vertical-align: top;\n",
       "    }\n",
       "\n",
       "    .dataframe thead th {\n",
       "        text-align: right;\n",
       "    }\n",
       "</style>\n",
       "<table border=\"1\" class=\"dataframe\">\n",
       "  <thead>\n",
       "    <tr style=\"text-align: right;\">\n",
       "      <th></th>\n",
       "      <th>index</th>\n",
       "      <th>Season</th>\n",
       "      <th>Winner</th>\n",
       "      <th>counts</th>\n",
       "    </tr>\n",
       "  </thead>\n",
       "  <tbody>\n",
       "    <tr>\n",
       "      <th>0</th>\n",
       "      <td>11</td>\n",
       "      <td>1993-94</td>\n",
       "      <td>Man United</td>\n",
       "      <td>27</td>\n",
       "    </tr>\n",
       "    <tr>\n",
       "      <th>1</th>\n",
       "      <td>2</td>\n",
       "      <td>1993-94</td>\n",
       "      <td>Blackburn</td>\n",
       "      <td>25</td>\n",
       "    </tr>\n",
       "    <tr>\n",
       "      <th>2</th>\n",
       "      <td>12</td>\n",
       "      <td>1993-94</td>\n",
       "      <td>Newcastle</td>\n",
       "      <td>23</td>\n",
       "    </tr>\n",
       "    <tr>\n",
       "      <th>3</th>\n",
       "      <td>0</td>\n",
       "      <td>1993-94</td>\n",
       "      <td>Arsenal</td>\n",
       "      <td>18</td>\n",
       "    </tr>\n",
       "    <tr>\n",
       "      <th>4</th>\n",
       "      <td>8</td>\n",
       "      <td>1993-94</td>\n",
       "      <td>Leeds</td>\n",
       "      <td>18</td>\n",
       "    </tr>\n",
       "    <tr>\n",
       "      <th>...</th>\n",
       "      <td>...</td>\n",
       "      <td>...</td>\n",
       "      <td>...</td>\n",
       "      <td>...</td>\n",
       "    </tr>\n",
       "    <tr>\n",
       "      <th>499</th>\n",
       "      <td>516</td>\n",
       "      <td>2017-18</td>\n",
       "      <td>Huddersfield</td>\n",
       "      <td>9</td>\n",
       "    </tr>\n",
       "    <tr>\n",
       "      <th>500</th>\n",
       "      <td>524</td>\n",
       "      <td>2017-18</td>\n",
       "      <td>Swansea</td>\n",
       "      <td>8</td>\n",
       "    </tr>\n",
       "    <tr>\n",
       "      <th>501</th>\n",
       "      <td>522</td>\n",
       "      <td>2017-18</td>\n",
       "      <td>Southampton</td>\n",
       "      <td>7</td>\n",
       "    </tr>\n",
       "    <tr>\n",
       "      <th>502</th>\n",
       "      <td>523</td>\n",
       "      <td>2017-18</td>\n",
       "      <td>Stoke</td>\n",
       "      <td>7</td>\n",
       "    </tr>\n",
       "    <tr>\n",
       "      <th>503</th>\n",
       "      <td>527</td>\n",
       "      <td>2017-18</td>\n",
       "      <td>West Brom</td>\n",
       "      <td>6</td>\n",
       "    </tr>\n",
       "  </tbody>\n",
       "</table>\n",
       "<p>504 rows × 4 columns</p>\n",
       "</div>"
      ],
      "text/plain": [
       "     index   Season        Winner  counts\n",
       "0       11  1993-94    Man United      27\n",
       "1        2  1993-94     Blackburn      25\n",
       "2       12  1993-94     Newcastle      23\n",
       "3        0  1993-94       Arsenal      18\n",
       "4        8  1993-94         Leeds      18\n",
       "..     ...      ...           ...     ...\n",
       "499    516  2017-18  Huddersfield       9\n",
       "500    524  2017-18       Swansea       8\n",
       "501    522  2017-18   Southampton       7\n",
       "502    523  2017-18         Stoke       7\n",
       "503    527  2017-18     West Brom       6\n",
       "\n",
       "[504 rows x 4 columns]"
      ]
     },
     "execution_count": 18,
     "metadata": {},
     "output_type": "execute_result"
    }
   ],
   "source": [
    "d=c[c.Winner.str.contains('Draw')==False].reset_index()\n",
    "d"
   ]
  },
  {
   "cell_type": "markdown",
   "metadata": {},
   "source": [
    "Now we can print the *Team that has won most of the matches in each Season*."
   ]
  },
  {
   "cell_type": "code",
   "execution_count": 19,
   "metadata": {},
   "outputs": [
    {
     "data": {
      "text/html": [
       "<div>\n",
       "<style scoped>\n",
       "    .dataframe tbody tr th:only-of-type {\n",
       "        vertical-align: middle;\n",
       "    }\n",
       "\n",
       "    .dataframe tbody tr th {\n",
       "        vertical-align: top;\n",
       "    }\n",
       "\n",
       "    .dataframe thead th {\n",
       "        text-align: right;\n",
       "    }\n",
       "</style>\n",
       "<table border=\"1\" class=\"dataframe\">\n",
       "  <thead>\n",
       "    <tr style=\"text-align: right;\">\n",
       "      <th></th>\n",
       "      <th>index</th>\n",
       "      <th>Season</th>\n",
       "      <th>Winner</th>\n",
       "      <th>counts</th>\n",
       "    </tr>\n",
       "  </thead>\n",
       "  <tbody>\n",
       "    <tr>\n",
       "      <th>0</th>\n",
       "      <td>11</td>\n",
       "      <td>1993-94</td>\n",
       "      <td>Man United</td>\n",
       "      <td>27</td>\n",
       "    </tr>\n",
       "    <tr>\n",
       "      <th>22</th>\n",
       "      <td>25</td>\n",
       "      <td>1994-95</td>\n",
       "      <td>Blackburn</td>\n",
       "      <td>27</td>\n",
       "    </tr>\n",
       "    <tr>\n",
       "      <th>44</th>\n",
       "      <td>57</td>\n",
       "      <td>1995-96</td>\n",
       "      <td>Man United</td>\n",
       "      <td>25</td>\n",
       "    </tr>\n",
       "    <tr>\n",
       "      <th>64</th>\n",
       "      <td>78</td>\n",
       "      <td>1996-97</td>\n",
       "      <td>Man United</td>\n",
       "      <td>21</td>\n",
       "    </tr>\n",
       "    <tr>\n",
       "      <th>84</th>\n",
       "      <td>88</td>\n",
       "      <td>1997-98</td>\n",
       "      <td>Arsenal</td>\n",
       "      <td>23</td>\n",
       "    </tr>\n",
       "    <tr>\n",
       "      <th>104</th>\n",
       "      <td>109</td>\n",
       "      <td>1998-99</td>\n",
       "      <td>Arsenal</td>\n",
       "      <td>22</td>\n",
       "    </tr>\n",
       "    <tr>\n",
       "      <th>124</th>\n",
       "      <td>141</td>\n",
       "      <td>1999-00</td>\n",
       "      <td>Man United</td>\n",
       "      <td>28</td>\n",
       "    </tr>\n",
       "    <tr>\n",
       "      <th>144</th>\n",
       "      <td>165</td>\n",
       "      <td>2000-01</td>\n",
       "      <td>Man United</td>\n",
       "      <td>24</td>\n",
       "    </tr>\n",
       "    <tr>\n",
       "      <th>164</th>\n",
       "      <td>172</td>\n",
       "      <td>2001-02</td>\n",
       "      <td>Arsenal</td>\n",
       "      <td>26</td>\n",
       "    </tr>\n",
       "    <tr>\n",
       "      <th>184</th>\n",
       "      <td>206</td>\n",
       "      <td>2002-03</td>\n",
       "      <td>Man United</td>\n",
       "      <td>25</td>\n",
       "    </tr>\n",
       "    <tr>\n",
       "      <th>204</th>\n",
       "      <td>214</td>\n",
       "      <td>2003-04</td>\n",
       "      <td>Arsenal</td>\n",
       "      <td>26</td>\n",
       "    </tr>\n",
       "    <tr>\n",
       "      <th>224</th>\n",
       "      <td>241</td>\n",
       "      <td>2004-05</td>\n",
       "      <td>Chelsea</td>\n",
       "      <td>29</td>\n",
       "    </tr>\n",
       "    <tr>\n",
       "      <th>244</th>\n",
       "      <td>262</td>\n",
       "      <td>2005-06</td>\n",
       "      <td>Chelsea</td>\n",
       "      <td>29</td>\n",
       "    </tr>\n",
       "    <tr>\n",
       "      <th>264</th>\n",
       "      <td>288</td>\n",
       "      <td>2006-07</td>\n",
       "      <td>Man United</td>\n",
       "      <td>28</td>\n",
       "    </tr>\n",
       "    <tr>\n",
       "      <th>284</th>\n",
       "      <td>310</td>\n",
       "      <td>2007-08</td>\n",
       "      <td>Man United</td>\n",
       "      <td>27</td>\n",
       "    </tr>\n",
       "    <tr>\n",
       "      <th>304</th>\n",
       "      <td>330</td>\n",
       "      <td>2008-09</td>\n",
       "      <td>Man United</td>\n",
       "      <td>28</td>\n",
       "    </tr>\n",
       "    <tr>\n",
       "      <th>324</th>\n",
       "      <td>346</td>\n",
       "      <td>2009-10</td>\n",
       "      <td>Chelsea</td>\n",
       "      <td>27</td>\n",
       "    </tr>\n",
       "    <tr>\n",
       "      <th>344</th>\n",
       "      <td>373</td>\n",
       "      <td>2010-11</td>\n",
       "      <td>Man United</td>\n",
       "      <td>23</td>\n",
       "    </tr>\n",
       "    <tr>\n",
       "      <th>364</th>\n",
       "      <td>391</td>\n",
       "      <td>2011-12</td>\n",
       "      <td>Man City</td>\n",
       "      <td>28</td>\n",
       "    </tr>\n",
       "    <tr>\n",
       "      <th>384</th>\n",
       "      <td>411</td>\n",
       "      <td>2012-13</td>\n",
       "      <td>Man United</td>\n",
       "      <td>28</td>\n",
       "    </tr>\n",
       "    <tr>\n",
       "      <th>404</th>\n",
       "      <td>434</td>\n",
       "      <td>2013-14</td>\n",
       "      <td>Man City</td>\n",
       "      <td>27</td>\n",
       "    </tr>\n",
       "    <tr>\n",
       "      <th>424</th>\n",
       "      <td>448</td>\n",
       "      <td>2014-15</td>\n",
       "      <td>Chelsea</td>\n",
       "      <td>26</td>\n",
       "    </tr>\n",
       "    <tr>\n",
       "      <th>444</th>\n",
       "      <td>473</td>\n",
       "      <td>2015-16</td>\n",
       "      <td>Leicester</td>\n",
       "      <td>23</td>\n",
       "    </tr>\n",
       "    <tr>\n",
       "      <th>464</th>\n",
       "      <td>490</td>\n",
       "      <td>2016-17</td>\n",
       "      <td>Chelsea</td>\n",
       "      <td>30</td>\n",
       "    </tr>\n",
       "    <tr>\n",
       "      <th>484</th>\n",
       "      <td>519</td>\n",
       "      <td>2017-18</td>\n",
       "      <td>Man City</td>\n",
       "      <td>32</td>\n",
       "    </tr>\n",
       "  </tbody>\n",
       "</table>\n",
       "</div>"
      ],
      "text/plain": [
       "     index   Season      Winner  counts\n",
       "0       11  1993-94  Man United      27\n",
       "22      25  1994-95   Blackburn      27\n",
       "44      57  1995-96  Man United      25\n",
       "64      78  1996-97  Man United      21\n",
       "84      88  1997-98     Arsenal      23\n",
       "104    109  1998-99     Arsenal      22\n",
       "124    141  1999-00  Man United      28\n",
       "144    165  2000-01  Man United      24\n",
       "164    172  2001-02     Arsenal      26\n",
       "184    206  2002-03  Man United      25\n",
       "204    214  2003-04     Arsenal      26\n",
       "224    241  2004-05     Chelsea      29\n",
       "244    262  2005-06     Chelsea      29\n",
       "264    288  2006-07  Man United      28\n",
       "284    310  2007-08  Man United      27\n",
       "304    330  2008-09  Man United      28\n",
       "324    346  2009-10     Chelsea      27\n",
       "344    373  2010-11  Man United      23\n",
       "364    391  2011-12    Man City      28\n",
       "384    411  2012-13  Man United      28\n",
       "404    434  2013-14    Man City      27\n",
       "424    448  2014-15     Chelsea      26\n",
       "444    473  2015-16   Leicester      23\n",
       "464    490  2016-17     Chelsea      30\n",
       "484    519  2017-18    Man City      32"
      ]
     },
     "execution_count": 19,
     "metadata": {},
     "output_type": "execute_result"
    }
   ],
   "source": [
    "e=d.groupby('Season').head(1)\n",
    "e"
   ]
  },
  {
   "cell_type": "markdown",
   "metadata": {},
   "source": [
    "Now that we know which Team has won the most number of matches every year. We can check which team has won the most for the past 26 years."
   ]
  },
  {
   "cell_type": "code",
   "execution_count": 20,
   "metadata": {},
   "outputs": [
    {
     "data": {
      "text/html": [
       "<div>\n",
       "<style scoped>\n",
       "    .dataframe tbody tr th:only-of-type {\n",
       "        vertical-align: middle;\n",
       "    }\n",
       "\n",
       "    .dataframe tbody tr th {\n",
       "        vertical-align: top;\n",
       "    }\n",
       "\n",
       "    .dataframe thead th {\n",
       "        text-align: right;\n",
       "    }\n",
       "</style>\n",
       "<table border=\"1\" class=\"dataframe\">\n",
       "  <thead>\n",
       "    <tr style=\"text-align: right;\">\n",
       "      <th></th>\n",
       "      <th>index</th>\n",
       "      <th>Winner</th>\n",
       "    </tr>\n",
       "  </thead>\n",
       "  <tbody>\n",
       "    <tr>\n",
       "      <th>0</th>\n",
       "      <td>Man United</td>\n",
       "      <td>11</td>\n",
       "    </tr>\n",
       "    <tr>\n",
       "      <th>1</th>\n",
       "      <td>Chelsea</td>\n",
       "      <td>5</td>\n",
       "    </tr>\n",
       "    <tr>\n",
       "      <th>2</th>\n",
       "      <td>Arsenal</td>\n",
       "      <td>4</td>\n",
       "    </tr>\n",
       "    <tr>\n",
       "      <th>3</th>\n",
       "      <td>Man City</td>\n",
       "      <td>3</td>\n",
       "    </tr>\n",
       "    <tr>\n",
       "      <th>4</th>\n",
       "      <td>Leicester</td>\n",
       "      <td>1</td>\n",
       "    </tr>\n",
       "    <tr>\n",
       "      <th>5</th>\n",
       "      <td>Blackburn</td>\n",
       "      <td>1</td>\n",
       "    </tr>\n",
       "  </tbody>\n",
       "</table>\n",
       "</div>"
      ],
      "text/plain": [
       "        index  Winner\n",
       "0  Man United      11\n",
       "1     Chelsea       5\n",
       "2     Arsenal       4\n",
       "3    Man City       3\n",
       "4   Leicester       1\n",
       "5   Blackburn       1"
      ]
     },
     "execution_count": 20,
     "metadata": {},
     "output_type": "execute_result"
    }
   ],
   "source": [
    "z=e['Winner'].value_counts().reset_index()\n",
    "z"
   ]
  },
  {
   "cell_type": "markdown",
   "metadata": {},
   "source": [
    "Therefore **Manchester united has won more matches in last 26 years**."
   ]
  },
  {
   "cell_type": "code",
   "execution_count": 33,
   "metadata": {},
   "outputs": [
    {
     "data": {
      "text/plain": [
       "<matplotlib.axes._subplots.AxesSubplot at 0x2a099346a90>"
      ]
     },
     "execution_count": 33,
     "metadata": {},
     "output_type": "execute_result"
    },
    {
     "data": {
      "image/png": "[encoded data removed]",
      "text/plain": [
       "<Figure size 432x288 with 1 Axes>"
      ]
     },
     "metadata": {
      "needs_background": "light"
     },
     "output_type": "display_data"
    }
   ],
   "source": [
    "#Plotting the Teams and number of Seasons they have won in the past 26 years.\n",
    "sns.barplot(x='index', y='Winner', data=z, palette='Dark2')"
   ]
  },
  {
   "cell_type": "markdown",
   "metadata": {},
   "source": [
    "Since Manchester United has won more in past 26 years we check there overall wins every year"
   ]
  },
  {
   "cell_type": "code",
   "execution_count": 21,
   "metadata": {},
   "outputs": [
    {
     "data": {
      "text/html": [
       "<div>\n",
       "<style scoped>\n",
       "    .dataframe tbody tr th:only-of-type {\n",
       "        vertical-align: middle;\n",
       "    }\n",
       "\n",
       "    .dataframe tbody tr th {\n",
       "        vertical-align: top;\n",
       "    }\n",
       "\n",
       "    .dataframe thead th {\n",
       "        text-align: right;\n",
       "    }\n",
       "</style>\n",
       "<table border=\"1\" class=\"dataframe\">\n",
       "  <thead>\n",
       "    <tr style=\"text-align: right;\">\n",
       "      <th></th>\n",
       "      <th>Season</th>\n",
       "      <th>Wins</th>\n",
       "    </tr>\n",
       "  </thead>\n",
       "  <tbody>\n",
       "    <tr>\n",
       "      <th>0</th>\n",
       "      <td>1993-94</td>\n",
       "      <td>27</td>\n",
       "    </tr>\n",
       "    <tr>\n",
       "      <th>1</th>\n",
       "      <td>1994-95</td>\n",
       "      <td>26</td>\n",
       "    </tr>\n",
       "    <tr>\n",
       "      <th>2</th>\n",
       "      <td>1995-96</td>\n",
       "      <td>25</td>\n",
       "    </tr>\n",
       "    <tr>\n",
       "      <th>3</th>\n",
       "      <td>1996-97</td>\n",
       "      <td>21</td>\n",
       "    </tr>\n",
       "    <tr>\n",
       "      <th>4</th>\n",
       "      <td>1997-98</td>\n",
       "      <td>23</td>\n",
       "    </tr>\n",
       "    <tr>\n",
       "      <th>5</th>\n",
       "      <td>1998-99</td>\n",
       "      <td>22</td>\n",
       "    </tr>\n",
       "    <tr>\n",
       "      <th>6</th>\n",
       "      <td>1999-00</td>\n",
       "      <td>28</td>\n",
       "    </tr>\n",
       "    <tr>\n",
       "      <th>7</th>\n",
       "      <td>2000-01</td>\n",
       "      <td>24</td>\n",
       "    </tr>\n",
       "    <tr>\n",
       "      <th>8</th>\n",
       "      <td>2001-02</td>\n",
       "      <td>24</td>\n",
       "    </tr>\n",
       "    <tr>\n",
       "      <th>9</th>\n",
       "      <td>2002-03</td>\n",
       "      <td>25</td>\n",
       "    </tr>\n",
       "    <tr>\n",
       "      <th>10</th>\n",
       "      <td>2003-04</td>\n",
       "      <td>23</td>\n",
       "    </tr>\n",
       "    <tr>\n",
       "      <th>11</th>\n",
       "      <td>2004-05</td>\n",
       "      <td>22</td>\n",
       "    </tr>\n",
       "    <tr>\n",
       "      <th>12</th>\n",
       "      <td>2005-06</td>\n",
       "      <td>25</td>\n",
       "    </tr>\n",
       "    <tr>\n",
       "      <th>13</th>\n",
       "      <td>2006-07</td>\n",
       "      <td>28</td>\n",
       "    </tr>\n",
       "    <tr>\n",
       "      <th>14</th>\n",
       "      <td>2007-08</td>\n",
       "      <td>27</td>\n",
       "    </tr>\n",
       "    <tr>\n",
       "      <th>15</th>\n",
       "      <td>2008-09</td>\n",
       "      <td>28</td>\n",
       "    </tr>\n",
       "    <tr>\n",
       "      <th>16</th>\n",
       "      <td>2009-10</td>\n",
       "      <td>27</td>\n",
       "    </tr>\n",
       "    <tr>\n",
       "      <th>17</th>\n",
       "      <td>2010-11</td>\n",
       "      <td>23</td>\n",
       "    </tr>\n",
       "    <tr>\n",
       "      <th>18</th>\n",
       "      <td>2011-12</td>\n",
       "      <td>28</td>\n",
       "    </tr>\n",
       "    <tr>\n",
       "      <th>19</th>\n",
       "      <td>2012-13</td>\n",
       "      <td>28</td>\n",
       "    </tr>\n",
       "    <tr>\n",
       "      <th>20</th>\n",
       "      <td>2013-14</td>\n",
       "      <td>19</td>\n",
       "    </tr>\n",
       "    <tr>\n",
       "      <th>21</th>\n",
       "      <td>2014-15</td>\n",
       "      <td>20</td>\n",
       "    </tr>\n",
       "    <tr>\n",
       "      <th>22</th>\n",
       "      <td>2015-16</td>\n",
       "      <td>19</td>\n",
       "    </tr>\n",
       "    <tr>\n",
       "      <th>23</th>\n",
       "      <td>2016-17</td>\n",
       "      <td>18</td>\n",
       "    </tr>\n",
       "    <tr>\n",
       "      <th>24</th>\n",
       "      <td>2017-18</td>\n",
       "      <td>25</td>\n",
       "    </tr>\n",
       "  </tbody>\n",
       "</table>\n",
       "</div>"
      ],
      "text/plain": [
       "     Season  Wins\n",
       "0   1993-94    27\n",
       "1   1994-95    26\n",
       "2   1995-96    25\n",
       "3   1996-97    21\n",
       "4   1997-98    23\n",
       "5   1998-99    22\n",
       "6   1999-00    28\n",
       "7   2000-01    24\n",
       "8   2001-02    24\n",
       "9   2002-03    25\n",
       "10  2003-04    23\n",
       "11  2004-05    22\n",
       "12  2005-06    25\n",
       "13  2006-07    28\n",
       "14  2007-08    27\n",
       "15  2008-09    28\n",
       "16  2009-10    27\n",
       "17  2010-11    23\n",
       "18  2011-12    28\n",
       "19  2012-13    28\n",
       "20  2013-14    19\n",
       "21  2014-15    20\n",
       "22  2015-16    19\n",
       "23  2016-17    18\n",
       "24  2017-18    25"
      ]
     },
     "execution_count": 21,
     "metadata": {},
     "output_type": "execute_result"
    }
   ],
   "source": [
    "manutd = df_epl.loc[df_epl['Winner'] == 'Man United']\n",
    "count_series = manutd.groupby(['Season']).size()\n",
    "mancount = pd.DataFrame(data=count_series, columns=['Wins']).reset_index()\n",
    "mancount"
   ]
  },
  {
   "cell_type": "code",
   "execution_count": 35,
   "metadata": {},
   "outputs": [
    {
     "data": {
      "image/png": "[encoded data removed]",
      "text/plain": [
       "<Figure size 1440x1440 with 1 Axes>"
      ]
     },
     "metadata": {
      "needs_background": "light"
     },
     "output_type": "display_data"
    }
   ],
   "source": [
    "plt.figure(figsize=(20, 20))\n",
    "plt.plot('Season', 'Wins', data=mancount, marker='o', color='skyblue')\n",
    "plt.show()"
   ]
  },
  {
   "cell_type": "code",
   "execution_count": 23,
   "metadata": {},
   "outputs": [],
   "source": [
    "utd = df_epl.groupby(['Season','HomeTeam']).FTHG.sum().reset_index()\n",
    "utd = utd.loc[utd['HomeTeam'] == 'Man United']"
   ]
  },
  {
   "cell_type": "code",
   "execution_count": 39,
   "metadata": {},
   "outputs": [
    {
     "data": {
      "text/plain": [
       "<matplotlib.axes._subplots.AxesSubplot at 0x2a09bc2b640>"
      ]
     },
     "execution_count": 39,
     "metadata": {},
     "output_type": "execute_result"
    },
    {
     "data": {
      "image/png": "[encoded data removed]",
      "text/plain": [
       "<Figure size 1440x1296 with 1 Axes>"
      ]
     },
     "metadata": {
      "needs_background": "light"
     },
     "output_type": "display_data"
    }
   ],
   "source": [
    "#Goal scored by Manutd at home\n",
    "plt.rcParams['figure.figsize'] = [20, 18]\n",
    "sns.barplot(x='Season', y='FTHG', data=utd)"
   ]
  },
  {
   "cell_type": "markdown",
   "metadata": {},
   "source": [
    "Form above we can see that Manchester United has scored most *Home goals in season 1999-2000*."
   ]
  },
  {
   "cell_type": "code",
   "execution_count": 40,
   "metadata": {
    "scrolled": true
   },
   "outputs": [
    {
     "data": {
      "text/plain": [
       "<matplotlib.axes._subplots.AxesSubplot at 0x2a09c49d4f0>"
      ]
     },
     "execution_count": 40,
     "metadata": {},
     "output_type": "execute_result"
    },
    {
     "data": {
      "image/png": "[encoded data removed]",
      "text/plain": [
       "<Figure size 1440x1440 with 1 Axes>"
      ]
     },
     "metadata": {
      "needs_background": "light"
     },
     "output_type": "display_data"
    }
   ],
   "source": [
    "#Goal scored by Manutd away\n",
    "autd = df_epl.groupby(['Season','AwayTeam']).FTAG.sum().reset_index()\n",
    "autd = autd.loc[autd['AwayTeam'] == 'Man United']\n",
    "plt.rcParams['figure.figsize'] = [20, 20]\n",
    "sns.barplot(x='Season', y='FTAG', data=autd)"
   ]
  },
  {
   "cell_type": "markdown",
   "metadata": {},
   "source": [
    "Form above we can see that Manchester United has scored most *Away goals in season 2001-02*."
   ]
  },
  {
   "cell_type": "markdown",
   "metadata": {},
   "source": [
    "Now let us see which teams take the first 4 spots in the every season."
   ]
  },
  {
   "cell_type": "code",
   "execution_count": 24,
   "metadata": {},
   "outputs": [
    {
     "data": {
      "image/png": "[encoded data removed]",
      "text/plain": [
       "<Figure size 1080x576 with 1 Axes>"
      ]
     },
     "metadata": {
      "needs_background": "light"
     },
     "output_type": "display_data"
    }
   ],
   "source": [
    "n=d.groupby('Season').head(4)\n",
    "o=n['Winner'].value_counts().reset_index()\n",
    "plt.figure(figsize=(15,8))\n",
    "grid1=sns.barplot(x='index',y='Winner',data=o,color='dodgerblue')\n",
    "grid1.set_xticklabels(o['index'],rotation=90)\n",
    "plt.show()"
   ]
  },
  {
   "cell_type": "markdown",
   "metadata": {},
   "source": [
    "Since Manchester United won more games every season we can compare its performance with top 5 teams."
   ]
  },
  {
   "cell_type": "markdown",
   "metadata": {},
   "source": [
    "Comparing between Manchester United and Chelsea"
   ]
  },
  {
   "cell_type": "code",
   "execution_count": 44,
   "metadata": {},
   "outputs": [],
   "source": [
    "manche = df_epl[((df_epl['HomeTeam']=='Man United' )& (df_epl['AwayTeam']=='Chelsea'))|((df_epl['HomeTeam']=='Chelsea') & (df_epl['AwayTeam']=='Man United'))].groupby(['Winner'])['Winner'].count()"
   ]
  },
  {
   "cell_type": "code",
   "execution_count": 47,
   "metadata": {},
   "outputs": [
    {
     "data": {
      "image/png": "[encoded data removed]",
      "text/plain": [
       "<Figure size 720x576 with 1 Axes>"
      ]
     },
     "metadata": {},
     "output_type": "display_data"
    }
   ],
   "source": [
    "labels = (np.array(manche.index))\n",
    "sizes = (np.array((manche / manche.sum())*100))\n",
    "\n",
    "plt.subplots(figsize=(10, 8))\n",
    "plt.pie(sizes, labels=labels, autopct='%3.1f%%', shadow=True, startangle=90)\n",
    "plt.title(\"Win % Between Man United and Chelsea\")\n",
    "plt.show()\n"
   ]
  },
  {
   "cell_type": "markdown",
   "metadata": {},
   "source": [
    "Comparing between Manchester United and Arsenal"
   ]
  },
  {
   "cell_type": "code",
   "execution_count": 48,
   "metadata": {},
   "outputs": [
    {
     "data": {
      "image/png": "[encoded data removed]",
      "text/plain": [
       "<Figure size 720x576 with 1 Axes>"
      ]
     },
     "metadata": {},
     "output_type": "display_data"
    }
   ],
   "source": [
    "manars = df_epl[((df_epl['HomeTeam']=='Man United' )& (df_epl['AwayTeam']=='Arsenal'))|((df_epl['HomeTeam']=='Arsenal') & (df_epl['AwayTeam']=='Man United'))].groupby(['Winner'])['Winner'].count()\n",
    "labels = (np.array(manars.index))\n",
    "sizes = (np.array((manars / manars.sum())*100))\n",
    "\n",
    "plt.subplots(figsize=(10, 8))\n",
    "plt.pie(sizes, labels=labels, autopct='%1.1f%%', shadow=True, startangle=90)\n",
    "plt.title(\"Win % Between Man United and Arsenal\")\n",
    "plt.show()\n"
   ]
  },
  {
   "cell_type": "markdown",
   "metadata": {},
   "source": [
    "Comparing between Manchester United and Liverpool"
   ]
  },
  {
   "cell_type": "code",
   "execution_count": 49,
   "metadata": {},
   "outputs": [
    {
     "data": {
      "image/png": "[encoded data removed]",
      "text/plain": [
       "<Figure size 720x576 with 1 Axes>"
      ]
     },
     "metadata": {},
     "output_type": "display_data"
    }
   ],
   "source": [
    "manliv = df_epl[((df_epl['HomeTeam']=='Man United' )& (df_epl['AwayTeam']=='Liverpool'))|((df_epl['HomeTeam']=='Liverpool') & (df_epl['AwayTeam']=='Man United'))].groupby(['Winner'])['Winner'].count()\n",
    "labels = (np.array(manliv.index))\n",
    "sizes = (np.array((manliv / manliv.sum())*100))\n",
    "colors = ['Red', 'Lightblue','Pink']\n",
    "plt.subplots(figsize=(10, 8))\n",
    "plt.pie(sizes, labels=labels, colors=colors, autopct='%1.1f%%', shadow=True, startangle=90)\n",
    "plt.title(\"Win % Between Man United and Liverpool\")\n",
    "plt.show()"
   ]
  },
  {
   "cell_type": "markdown",
   "metadata": {},
   "source": [
    "Comparing between Manchester United and Manchester City"
   ]
  },
  {
   "cell_type": "code",
   "execution_count": 50,
   "metadata": {
    "scrolled": true
   },
   "outputs": [
    {
     "data": {
      "image/png": "[encoded data removed]",
      "text/plain": [
       "<Figure size 720x576 with 1 Axes>"
      ]
     },
     "metadata": {},
     "output_type": "display_data"
    }
   ],
   "source": [
    "mancity = df_epl[((df_epl['HomeTeam']=='Man United' )& (df_epl['AwayTeam']=='Man City'))|((df_epl['HomeTeam']=='Man City') & (df_epl['AwayTeam']=='Man United'))].groupby(['Winner'])['Winner'].count()\n",
    "labels = (np.array(mancity.index))\n",
    "sizes = (np.array((mancity / mancity.sum())*100))\n",
    "colors = ['Orange', 'Violet','Green']\n",
    "plt.subplots(figsize=(10, 8))\n",
    "plt.pie(sizes, labels=labels, colors=colors, autopct='%1.1f%%', shadow=True, startangle=90)\n",
    "plt.title(\"Win % Between Man United and City\")\n",
    "plt.show()"
   ]
  },
  {
   "cell_type": "markdown",
   "metadata": {},
   "source": [
    "Comparing between Chelsea and Arsenal"
   ]
  },
  {
   "cell_type": "code",
   "execution_count": 51,
   "metadata": {
    "scrolled": true
   },
   "outputs": [
    {
     "data": {
      "image/png": "[encoded data removed]",
      "text/plain": [
       "<Figure size 720x576 with 1 Axes>"
      ]
     },
     "metadata": {},
     "output_type": "display_data"
    }
   ],
   "source": [
    "chears = df_epl[((df_epl['HomeTeam']=='Chelsea' )& (df_epl['AwayTeam']=='Arsenal'))|((df_epl['HomeTeam']=='Arsenal') & (df_epl['AwayTeam']=='Chelsea'))].groupby(['Winner'])['Winner'].count()\n",
    "labels = (np.array(chears.index))\n",
    "sizes = (np.array((chears / chears.sum())*100))\n",
    "colors = ['Red', 'blue','Gold']\n",
    "plt.subplots(figsize=(10, 8))\n",
    "plt.pie(sizes, labels=labels, colors=colors, autopct='%1.1f%%', shadow=True, startangle=90)\n",
    "plt.title(\"Win % Between Chelsea and Arsenal\")\n",
    "plt.show()"
   ]
  },
  {
   "cell_type": "markdown",
   "metadata": {},
   "source": [
    "Comparing between Chelsea and Liverpool"
   ]
  },
  {
   "cell_type": "code",
   "execution_count": 52,
   "metadata": {},
   "outputs": [
    {
     "data": {
      "image/png": "[encoded data removed]",
      "text/plain": [
       "<Figure size 720x576 with 1 Axes>"
      ]
     },
     "metadata": {},
     "output_type": "display_data"
    }
   ],
   "source": [
    "cheliv = df_epl[((df_epl['HomeTeam']=='Chelsea' )& (df_epl['AwayTeam']=='Liverpool'))|((df_epl['HomeTeam']=='Liverpool') & (df_epl['AwayTeam']=='Chelsea'))].groupby(['Winner'])['Winner'].count()\n",
    "labels = (np.array(cheliv.index))\n",
    "sizes = (np.array((cheliv / cheliv.sum())*100))\n",
    "colors = ['Red', 'yellow','green']\n",
    "plt.subplots(figsize=(10, 8))\n",
    "plt.pie(sizes, labels=labels, colors=colors, autopct='%1.1f%%', shadow=True, startangle=90)\n",
    "plt.title(\"Win % Between Chelsea and Liverpool\")\n",
    "plt.show()"
   ]
  },
  {
   "cell_type": "markdown",
   "metadata": {},
   "source": [
    "Comparing between Chelsea and Manchester City"
   ]
  },
  {
   "cell_type": "code",
   "execution_count": 60,
   "metadata": {},
   "outputs": [
    {
     "data": {
      "image/png": "[encoded data removed]",
      "text/plain": [
       "<Figure size 720x576 with 1 Axes>"
      ]
     },
     "metadata": {},
     "output_type": "display_data"
    }
   ],
   "source": [
    "chemanc = df_epl[((df_epl['HomeTeam']=='Chelsea' )& (df_epl['AwayTeam']=='Man City'))|((df_epl['HomeTeam']=='Man City') & (df_epl['AwayTeam']=='Chelsea'))].groupby(['Winner'])['Winner'].count()\n",
    "labels = (np.array(chemanc.index))\n",
    "sizes = (np.array((chemanc / chemanc.sum())*100))\n",
    "colors = ['Red', 'blue','yellow']\n",
    "plt.subplots(figsize=(10, 8))\n",
    "plt.pie(sizes, labels=labels, colors=colors, autopct='%1.1f%%', shadow=True, startangle=90)\n",
    "plt.title(\"Win % Between Chelsea and Man City\")\n",
    "plt.show()"
   ]
  },
  {
   "cell_type": "markdown",
   "metadata": {},
   "source": [
    "Comparing between Liverpool and Arsenal"
   ]
  },
  {
   "cell_type": "code",
   "execution_count": 59,
   "metadata": {},
   "outputs": [
    {
     "data": {
      "image/png": "[encoded data removed]",
      "text/plain": [
       "<Figure size 720x576 with 1 Axes>"
      ]
     },
     "metadata": {},
     "output_type": "display_data"
    }
   ],
   "source": [
    "livars = df_epl[((df_epl['HomeTeam']=='Liverpool' )& (df_epl['AwayTeam']=='Arsenal'))|((df_epl['HomeTeam']=='Arsenal') & (df_epl['AwayTeam']=='Liverpool'))].groupby(['Winner'])['Winner'].count()\n",
    "labels = (np.array(livars.index))\n",
    "sizes = (np.array((livars / livars.sum())*100))\n",
    "colors = ['Red', 'green','blue']\n",
    "plt.subplots(figsize=(10, 8))\n",
    "plt.pie(sizes, labels=labels, colors=colors, autopct='%1.1f%%', shadow=True, startangle=90)\n",
    "plt.title(\"Win % Between Liverpool and Arsenal\")\n",
    "plt.show()\n"
   ]
  },
  {
   "cell_type": "markdown",
   "metadata": {},
   "source": [
    "Comparing between Liverpool and Manchester City"
   ]
  },
  {
   "cell_type": "code",
   "execution_count": 63,
   "metadata": {},
   "outputs": [
    {
     "data": {
      "image/png": "[encoded data removed]",
      "text/plain": [
       "<Figure size 720x576 with 1 Axes>"
      ]
     },
     "metadata": {},
     "output_type": "display_data"
    }
   ],
   "source": [
    "livmanc = df_epl[((df_epl['HomeTeam']=='Liverpool' )& (df_epl['AwayTeam']=='Man City'))|((df_epl['HomeTeam']=='Man City') & (df_epl['AwayTeam']=='Liverpool'))].groupby(['Winner'])['Winner'].count()\n",
    "labels = (np.array(livmanc.index))\n",
    "sizes = (np.array((livmanc / livmanc.sum())*100))\n",
    "colors = ['Red', 'pink','green']\n",
    "plt.subplots(figsize=(10, 8))\n",
    "plt.pie(sizes, labels=labels, colors=colors, autopct='%1.1f%%', shadow=True, startangle=90)\n",
    "plt.title(\"Win % Between Liverpool and Man City\")\n",
    "plt.show()\n"
   ]
  },
  {
   "cell_type": "markdown",
   "metadata": {},
   "source": [
    "Comparing between Arsenal and Manchester City"
   ]
  },
  {
   "cell_type": "code",
   "execution_count": 62,
   "metadata": {
    "scrolled": true
   },
   "outputs": [
    {
     "data": {
      "image/png": "[encoded data removed]",
      "text/plain": [
       "<Figure size 720x576 with 1 Axes>"
      ]
     },
     "metadata": {},
     "output_type": "display_data"
    }
   ],
   "source": [
    "arsmanc = df_epl[((df_epl['HomeTeam']=='Arsenal' )& (df_epl['AwayTeam']=='Man City'))|((df_epl['HomeTeam']=='Man City') & (df_epl['AwayTeam']=='Arsenal'))].groupby(['Winner'])['Winner'].count()\n",
    "labels = (np.array(arsmanc.index))\n",
    "sizes = (np.array((arsmanc / arsmanc.sum())*100))\n",
    "colors = ['Red', 'blue','pink']\n",
    "plt.subplots(figsize=(10, 8))\n",
    "plt.pie(sizes, labels=labels, colors=colors, autopct='%1.1f%%', shadow=True, startangle=90)\n",
    "plt.title(\"Win % Between Arsenal and Man City\")\n",
    "plt.show()"
   ]
  },
  {
   "cell_type": "markdown",
   "metadata": {},
   "source": [
    "<a id=section503></a>\n",
    "### 5.3 League progress over season"
   ]
  },
  {
   "cell_type": "code",
   "execution_count": 64,
   "metadata": {},
   "outputs": [
    {
     "data": {
      "image/png": "[encoded data removed]",
      "text/plain": [
       "<Figure size 1080x576 with 1 Axes>"
      ]
     },
     "metadata": {
      "needs_background": "light"
     },
     "output_type": "display_data"
    }
   ],
   "source": [
    "df_epl['Total_Goals']=df_epl['FTHG']+df_epl['FTAG']\n",
    "l=df_epl.loc[:,['Season','Total_Goals']]\n",
    "m=l.groupby('Season').sum().reset_index()\n",
    "y=m['Total_Goals']\n",
    "plt.figure(figsize=(15,8))\n",
    "grid=sns.barplot(x='Season',y='Total_Goals',data=m,color='orange')\n",
    "grid.set_xticklabels(m['Season'],rotation=90)\n",
    "plt.axhline(y.mean())\n",
    "plt.show()"
   ]
  },
  {
   "cell_type": "markdown",
   "metadata": {},
   "source": [
    "**Overall wins at home, Draw and Away wins**"
   ]
  },
  {
   "cell_type": "code",
   "execution_count": 66,
   "metadata": {},
   "outputs": [
    {
     "data": {
      "text/html": [
       "<div>\n",
       "<style scoped>\n",
       "    .dataframe tbody tr th:only-of-type {\n",
       "        vertical-align: middle;\n",
       "    }\n",
       "\n",
       "    .dataframe tbody tr th {\n",
       "        vertical-align: top;\n",
       "    }\n",
       "\n",
       "    .dataframe thead th {\n",
       "        text-align: right;\n",
       "    }\n",
       "</style>\n",
       "<table border=\"1\" class=\"dataframe\">\n",
       "  <thead>\n",
       "    <tr style=\"text-align: right;\">\n",
       "      <th></th>\n",
       "      <th>Season</th>\n",
       "      <th>FTR</th>\n",
       "      <th>counts</th>\n",
       "    </tr>\n",
       "  </thead>\n",
       "  <tbody>\n",
       "    <tr>\n",
       "      <th>0</th>\n",
       "      <td>1993-94</td>\n",
       "      <td>A</td>\n",
       "      <td>128</td>\n",
       "    </tr>\n",
       "    <tr>\n",
       "      <th>1</th>\n",
       "      <td>1993-94</td>\n",
       "      <td>D</td>\n",
       "      <td>142</td>\n",
       "    </tr>\n",
       "    <tr>\n",
       "      <th>2</th>\n",
       "      <td>1993-94</td>\n",
       "      <td>H</td>\n",
       "      <td>192</td>\n",
       "    </tr>\n",
       "    <tr>\n",
       "      <th>3</th>\n",
       "      <td>1994-95</td>\n",
       "      <td>A</td>\n",
       "      <td>123</td>\n",
       "    </tr>\n",
       "    <tr>\n",
       "      <th>4</th>\n",
       "      <td>1994-95</td>\n",
       "      <td>D</td>\n",
       "      <td>134</td>\n",
       "    </tr>\n",
       "    <tr>\n",
       "      <th>...</th>\n",
       "      <td>...</td>\n",
       "      <td>...</td>\n",
       "      <td>...</td>\n",
       "    </tr>\n",
       "    <tr>\n",
       "      <th>70</th>\n",
       "      <td>2016-17</td>\n",
       "      <td>D</td>\n",
       "      <td>84</td>\n",
       "    </tr>\n",
       "    <tr>\n",
       "      <th>71</th>\n",
       "      <td>2016-17</td>\n",
       "      <td>H</td>\n",
       "      <td>187</td>\n",
       "    </tr>\n",
       "    <tr>\n",
       "      <th>72</th>\n",
       "      <td>2017-18</td>\n",
       "      <td>A</td>\n",
       "      <td>108</td>\n",
       "    </tr>\n",
       "    <tr>\n",
       "      <th>73</th>\n",
       "      <td>2017-18</td>\n",
       "      <td>D</td>\n",
       "      <td>99</td>\n",
       "    </tr>\n",
       "    <tr>\n",
       "      <th>74</th>\n",
       "      <td>2017-18</td>\n",
       "      <td>H</td>\n",
       "      <td>173</td>\n",
       "    </tr>\n",
       "  </tbody>\n",
       "</table>\n",
       "<p>75 rows × 3 columns</p>\n",
       "</div>"
      ],
      "text/plain": [
       "     Season FTR  counts\n",
       "0   1993-94   A     128\n",
       "1   1993-94   D     142\n",
       "2   1993-94   H     192\n",
       "3   1994-95   A     123\n",
       "4   1994-95   D     134\n",
       "..      ...  ..     ...\n",
       "70  2016-17   D      84\n",
       "71  2016-17   H     187\n",
       "72  2017-18   A     108\n",
       "73  2017-18   D      99\n",
       "74  2017-18   H     173\n",
       "\n",
       "[75 rows x 3 columns]"
      ]
     },
     "execution_count": 66,
     "metadata": {},
     "output_type": "execute_result"
    }
   ],
   "source": [
    "x=df_epl.loc[:,['Season','FTR']]\n",
    "y=x.groupby(['Season', 'FTR']).size().reset_index(name='counts')\n",
    "y"
   ]
  },
  {
   "cell_type": "code",
   "execution_count": 67,
   "metadata": {},
   "outputs": [
    {
     "data": {
      "text/plain": [
       "<matplotlib.axes._subplots.AxesSubplot at 0x2a0993b0ac0>"
      ]
     },
     "execution_count": 67,
     "metadata": {},
     "output_type": "execute_result"
    },
    {
     "data": {
      "image/png": "[encoded data removed]",
      "text/plain": [
       "<Figure size 1656x720 with 1 Axes>"
      ]
     },
     "metadata": {
      "needs_background": "light"
     },
     "output_type": "display_data"
    }
   ],
   "source": [
    "plt.figure(figsize=(23, 10))\n",
    "sns.countplot(df_epl['Season'], hue = df_epl['FTR'])"
   ]
  },
  {
   "cell_type": "markdown",
   "metadata": {},
   "source": [
    "**Result of teams at full time** "
   ]
  },
  {
   "cell_type": "code",
   "execution_count": 68,
   "metadata": {},
   "outputs": [
    {
     "data": {
      "text/plain": [
       "H    4461\n",
       "A    2657\n",
       "D    2546\n",
       "Name: FTR, dtype: int64"
      ]
     },
     "execution_count": 68,
     "metadata": {},
     "output_type": "execute_result"
    }
   ],
   "source": [
    "df_epl['FTR'].value_counts()"
   ]
  },
  {
   "cell_type": "code",
   "execution_count": 69,
   "metadata": {
    "scrolled": true
   },
   "outputs": [
    {
     "data": {
      "text/plain": [
       "<matplotlib.axes._subplots.AxesSubplot at 0x2a097e81310>"
      ]
     },
     "execution_count": 69,
     "metadata": {},
     "output_type": "execute_result"
    },
    {
     "data": {
      "image/png": "[encoded data removed]",
      "text/plain": [
       "<Figure size 720x720 with 1 Axes>"
      ]
     },
     "metadata": {},
     "output_type": "display_data"
    }
   ],
   "source": [
    "df_epl['FTR'].value_counts().plot(kind='pie', fontsize=14, autopct='%3.1f%%',figsize=(10,10))"
   ]
  },
  {
   "cell_type": "markdown",
   "metadata": {},
   "source": [
    "From above we can see that more than 4000 times teams at **Home** have won"
   ]
  },
  {
   "cell_type": "markdown",
   "metadata": {},
   "source": [
    "<a id=section6></a>\n",
    "### 6.How to win, sustain in Premier league"
   ]
  },
  {
   "cell_type": "markdown",
   "metadata": {},
   "source": [
    "**Analyzing data at half time**"
   ]
  },
  {
   "cell_type": "code",
   "execution_count": 28,
   "metadata": {},
   "outputs": [],
   "source": [
    "#Now that we have subset our data, we label the winners for half_time\n",
    "conditions1=[df_epl['HTR']=='A',df_epl['HTR']=='H',df_epl['HTR']=='D']\n",
    "choices1 = [df_epl['AwayTeam'],df_epl['HomeTeam'],'Draw']\n",
    "df_epl['Half_Time_Winner']=np.select(conditions1,choices1)"
   ]
  },
  {
   "cell_type": "code",
   "execution_count": 29,
   "metadata": {},
   "outputs": [
    {
     "data": {
      "text/html": [
       "<div>\n",
       "<style scoped>\n",
       "    .dataframe tbody tr th:only-of-type {\n",
       "        vertical-align: middle;\n",
       "    }\n",
       "\n",
       "    .dataframe tbody tr th {\n",
       "        vertical-align: top;\n",
       "    }\n",
       "\n",
       "    .dataframe thead th {\n",
       "        text-align: right;\n",
       "    }\n",
       "</style>\n",
       "<table border=\"1\" class=\"dataframe\">\n",
       "  <thead>\n",
       "    <tr style=\"text-align: right;\">\n",
       "      <th></th>\n",
       "      <th>Season</th>\n",
       "      <th>Half_Time_Winner</th>\n",
       "      <th>counts</th>\n",
       "    </tr>\n",
       "  </thead>\n",
       "  <tbody>\n",
       "    <tr>\n",
       "      <th>0</th>\n",
       "      <td>1993-94</td>\n",
       "      <td>0</td>\n",
       "      <td>462</td>\n",
       "    </tr>\n",
       "    <tr>\n",
       "      <th>1</th>\n",
       "      <td>1994-95</td>\n",
       "      <td>0</td>\n",
       "      <td>462</td>\n",
       "    </tr>\n",
       "    <tr>\n",
       "      <th>8</th>\n",
       "      <td>1995-96</td>\n",
       "      <td>Draw</td>\n",
       "      <td>167</td>\n",
       "    </tr>\n",
       "    <tr>\n",
       "      <th>13</th>\n",
       "      <td>1995-96</td>\n",
       "      <td>Man United</td>\n",
       "      <td>18</td>\n",
       "    </tr>\n",
       "    <tr>\n",
       "      <th>15</th>\n",
       "      <td>1995-96</td>\n",
       "      <td>Newcastle</td>\n",
       "      <td>18</td>\n",
       "    </tr>\n",
       "    <tr>\n",
       "      <th>...</th>\n",
       "      <td>...</td>\n",
       "      <td>...</td>\n",
       "      <td>...</td>\n",
       "    </tr>\n",
       "    <tr>\n",
       "      <th>477</th>\n",
       "      <td>2017-18</td>\n",
       "      <td>Newcastle</td>\n",
       "      <td>8</td>\n",
       "    </tr>\n",
       "    <tr>\n",
       "      <th>483</th>\n",
       "      <td>2017-18</td>\n",
       "      <td>West Brom</td>\n",
       "      <td>8</td>\n",
       "    </tr>\n",
       "    <tr>\n",
       "      <th>466</th>\n",
       "      <td>2017-18</td>\n",
       "      <td>Brighton</td>\n",
       "      <td>7</td>\n",
       "    </tr>\n",
       "    <tr>\n",
       "      <th>465</th>\n",
       "      <td>2017-18</td>\n",
       "      <td>Bournemouth</td>\n",
       "      <td>6</td>\n",
       "    </tr>\n",
       "    <tr>\n",
       "      <th>480</th>\n",
       "      <td>2017-18</td>\n",
       "      <td>Swansea</td>\n",
       "      <td>5</td>\n",
       "    </tr>\n",
       "  </tbody>\n",
       "</table>\n",
       "<p>485 rows × 3 columns</p>\n",
       "</div>"
      ],
      "text/plain": [
       "      Season Half_Time_Winner  counts\n",
       "0    1993-94                0     462\n",
       "1    1994-95                0     462\n",
       "8    1995-96             Draw     167\n",
       "13   1995-96       Man United      18\n",
       "15   1995-96        Newcastle      18\n",
       "..       ...              ...     ...\n",
       "477  2017-18        Newcastle       8\n",
       "483  2017-18        West Brom       8\n",
       "466  2017-18         Brighton       7\n",
       "465  2017-18      Bournemouth       6\n",
       "480  2017-18          Swansea       5\n",
       "\n",
       "[485 rows x 3 columns]"
      ]
     },
     "execution_count": 29,
     "metadata": {},
     "output_type": "execute_result"
    }
   ],
   "source": [
    "#Now let us tabulate data so that we can how many times each team wins in every Season.\n",
    "f=df_epl.loc[:,['Season','Half_Time_Winner']]\n",
    "g=f.groupby(['Season', 'Half_Time_Winner']).size().reset_index(name='counts')\n",
    "h=g.sort_values(['Season', 'counts'], ascending=[True, False])\n",
    "h\n"
   ]
  },
  {
   "cell_type": "markdown",
   "metadata": {},
   "source": [
    "**There are a large number of draws even at half time.**"
   ]
  },
  {
   "cell_type": "code",
   "execution_count": 30,
   "metadata": {},
   "outputs": [
    {
     "data": {
      "text/html": [
       "<div>\n",
       "<style scoped>\n",
       "    .dataframe tbody tr th:only-of-type {\n",
       "        vertical-align: middle;\n",
       "    }\n",
       "\n",
       "    .dataframe tbody tr th {\n",
       "        vertical-align: top;\n",
       "    }\n",
       "\n",
       "    .dataframe thead th {\n",
       "        text-align: right;\n",
       "    }\n",
       "</style>\n",
       "<table border=\"1\" class=\"dataframe\">\n",
       "  <thead>\n",
       "    <tr style=\"text-align: right;\">\n",
       "      <th></th>\n",
       "      <th>Season</th>\n",
       "      <th>Half_Time_Winner</th>\n",
       "      <th>counts</th>\n",
       "    </tr>\n",
       "  </thead>\n",
       "  <tbody>\n",
       "    <tr>\n",
       "      <th>13</th>\n",
       "      <td>1995-96</td>\n",
       "      <td>Man United</td>\n",
       "      <td>18</td>\n",
       "    </tr>\n",
       "    <tr>\n",
       "      <th>15</th>\n",
       "      <td>1995-96</td>\n",
       "      <td>Newcastle</td>\n",
       "      <td>18</td>\n",
       "    </tr>\n",
       "    <tr>\n",
       "      <th>4</th>\n",
       "      <td>1995-96</td>\n",
       "      <td>Blackburn</td>\n",
       "      <td>14</td>\n",
       "    </tr>\n",
       "    <tr>\n",
       "      <th>16</th>\n",
       "      <td>1995-96</td>\n",
       "      <td>Nott'm Forest</td>\n",
       "      <td>14</td>\n",
       "    </tr>\n",
       "    <tr>\n",
       "      <th>3</th>\n",
       "      <td>1995-96</td>\n",
       "      <td>Aston Villa</td>\n",
       "      <td>13</td>\n",
       "    </tr>\n",
       "    <tr>\n",
       "      <th>...</th>\n",
       "      <td>...</td>\n",
       "      <td>...</td>\n",
       "      <td>...</td>\n",
       "    </tr>\n",
       "    <tr>\n",
       "      <th>477</th>\n",
       "      <td>2017-18</td>\n",
       "      <td>Newcastle</td>\n",
       "      <td>8</td>\n",
       "    </tr>\n",
       "    <tr>\n",
       "      <th>483</th>\n",
       "      <td>2017-18</td>\n",
       "      <td>West Brom</td>\n",
       "      <td>8</td>\n",
       "    </tr>\n",
       "    <tr>\n",
       "      <th>466</th>\n",
       "      <td>2017-18</td>\n",
       "      <td>Brighton</td>\n",
       "      <td>7</td>\n",
       "    </tr>\n",
       "    <tr>\n",
       "      <th>465</th>\n",
       "      <td>2017-18</td>\n",
       "      <td>Bournemouth</td>\n",
       "      <td>6</td>\n",
       "    </tr>\n",
       "    <tr>\n",
       "      <th>480</th>\n",
       "      <td>2017-18</td>\n",
       "      <td>Swansea</td>\n",
       "      <td>5</td>\n",
       "    </tr>\n",
       "  </tbody>\n",
       "</table>\n",
       "<p>460 rows × 3 columns</p>\n",
       "</div>"
      ],
      "text/plain": [
       "      Season Half_Time_Winner  counts\n",
       "13   1995-96       Man United      18\n",
       "15   1995-96        Newcastle      18\n",
       "4    1995-96        Blackburn      14\n",
       "16   1995-96    Nott'm Forest      14\n",
       "3    1995-96      Aston Villa      13\n",
       "..       ...              ...     ...\n",
       "477  2017-18        Newcastle       8\n",
       "483  2017-18        West Brom       8\n",
       "466  2017-18         Brighton       7\n",
       "465  2017-18      Bournemouth       6\n",
       "480  2017-18          Swansea       5\n",
       "\n",
       "[460 rows x 3 columns]"
      ]
     },
     "execution_count": 30,
     "metadata": {},
     "output_type": "execute_result"
    }
   ],
   "source": [
    "#We can check the games won by ignoring the games that are at a draw during half time. \n",
    "i=h[h.Half_Time_Winner.str.contains('Draw')==False]\n",
    "i"
   ]
  },
  {
   "cell_type": "code",
   "execution_count": 31,
   "metadata": {
    "scrolled": true
   },
   "outputs": [
    {
     "data": {
      "text/html": [
       "<div>\n",
       "<style scoped>\n",
       "    .dataframe tbody tr th:only-of-type {\n",
       "        vertical-align: middle;\n",
       "    }\n",
       "\n",
       "    .dataframe tbody tr th {\n",
       "        vertical-align: top;\n",
       "    }\n",
       "\n",
       "    .dataframe thead th {\n",
       "        text-align: right;\n",
       "    }\n",
       "</style>\n",
       "<table border=\"1\" class=\"dataframe\">\n",
       "  <thead>\n",
       "    <tr style=\"text-align: right;\">\n",
       "      <th></th>\n",
       "      <th>Season</th>\n",
       "      <th>Half_Time_Winner</th>\n",
       "      <th>counts</th>\n",
       "    </tr>\n",
       "  </thead>\n",
       "  <tbody>\n",
       "    <tr>\n",
       "      <th>13</th>\n",
       "      <td>1995-96</td>\n",
       "      <td>Man United</td>\n",
       "      <td>18</td>\n",
       "    </tr>\n",
       "    <tr>\n",
       "      <th>26</th>\n",
       "      <td>1996-97</td>\n",
       "      <td>Chelsea</td>\n",
       "      <td>18</td>\n",
       "    </tr>\n",
       "    <tr>\n",
       "      <th>44</th>\n",
       "      <td>1997-98</td>\n",
       "      <td>Arsenal</td>\n",
       "      <td>18</td>\n",
       "    </tr>\n",
       "    <tr>\n",
       "      <th>65</th>\n",
       "      <td>1998-99</td>\n",
       "      <td>Arsenal</td>\n",
       "      <td>20</td>\n",
       "    </tr>\n",
       "    <tr>\n",
       "      <th>97</th>\n",
       "      <td>1999-00</td>\n",
       "      <td>Man United</td>\n",
       "      <td>17</td>\n",
       "    </tr>\n",
       "    <tr>\n",
       "      <th>121</th>\n",
       "      <td>2000-01</td>\n",
       "      <td>Man United</td>\n",
       "      <td>19</td>\n",
       "    </tr>\n",
       "    <tr>\n",
       "      <th>133</th>\n",
       "      <td>2001-02</td>\n",
       "      <td>Chelsea</td>\n",
       "      <td>20</td>\n",
       "    </tr>\n",
       "    <tr>\n",
       "      <th>149</th>\n",
       "      <td>2002-03</td>\n",
       "      <td>Arsenal</td>\n",
       "      <td>21</td>\n",
       "    </tr>\n",
       "    <tr>\n",
       "      <th>170</th>\n",
       "      <td>2003-04</td>\n",
       "      <td>Arsenal</td>\n",
       "      <td>18</td>\n",
       "    </tr>\n",
       "    <tr>\n",
       "      <th>191</th>\n",
       "      <td>2004-05</td>\n",
       "      <td>Arsenal</td>\n",
       "      <td>21</td>\n",
       "    </tr>\n",
       "    <tr>\n",
       "      <th>224</th>\n",
       "      <td>2005-06</td>\n",
       "      <td>Man United</td>\n",
       "      <td>20</td>\n",
       "    </tr>\n",
       "    <tr>\n",
       "      <th>238</th>\n",
       "      <td>2006-07</td>\n",
       "      <td>Chelsea</td>\n",
       "      <td>20</td>\n",
       "    </tr>\n",
       "    <tr>\n",
       "      <th>266</th>\n",
       "      <td>2007-08</td>\n",
       "      <td>Man United</td>\n",
       "      <td>20</td>\n",
       "    </tr>\n",
       "    <tr>\n",
       "      <th>279</th>\n",
       "      <td>2008-09</td>\n",
       "      <td>Chelsea</td>\n",
       "      <td>19</td>\n",
       "    </tr>\n",
       "    <tr>\n",
       "      <th>302</th>\n",
       "      <td>2009-10</td>\n",
       "      <td>Chelsea</td>\n",
       "      <td>21</td>\n",
       "    </tr>\n",
       "    <tr>\n",
       "      <th>329</th>\n",
       "      <td>2010-11</td>\n",
       "      <td>Man United</td>\n",
       "      <td>20</td>\n",
       "    </tr>\n",
       "    <tr>\n",
       "      <th>348</th>\n",
       "      <td>2011-12</td>\n",
       "      <td>Man United</td>\n",
       "      <td>24</td>\n",
       "    </tr>\n",
       "    <tr>\n",
       "      <th>367</th>\n",
       "      <td>2012-13</td>\n",
       "      <td>Man United</td>\n",
       "      <td>23</td>\n",
       "    </tr>\n",
       "    <tr>\n",
       "      <th>389</th>\n",
       "      <td>2013-14</td>\n",
       "      <td>Liverpool</td>\n",
       "      <td>25</td>\n",
       "    </tr>\n",
       "    <tr>\n",
       "      <th>401</th>\n",
       "      <td>2014-15</td>\n",
       "      <td>Arsenal</td>\n",
       "      <td>18</td>\n",
       "    </tr>\n",
       "    <tr>\n",
       "      <th>429</th>\n",
       "      <td>2015-16</td>\n",
       "      <td>Leicester</td>\n",
       "      <td>17</td>\n",
       "    </tr>\n",
       "    <tr>\n",
       "      <th>446</th>\n",
       "      <td>2016-17</td>\n",
       "      <td>Chelsea</td>\n",
       "      <td>21</td>\n",
       "    </tr>\n",
       "    <tr>\n",
       "      <th>475</th>\n",
       "      <td>2017-18</td>\n",
       "      <td>Man City</td>\n",
       "      <td>24</td>\n",
       "    </tr>\n",
       "  </tbody>\n",
       "</table>\n",
       "</div>"
      ],
      "text/plain": [
       "      Season Half_Time_Winner  counts\n",
       "13   1995-96       Man United      18\n",
       "26   1996-97          Chelsea      18\n",
       "44   1997-98          Arsenal      18\n",
       "65   1998-99          Arsenal      20\n",
       "97   1999-00       Man United      17\n",
       "121  2000-01       Man United      19\n",
       "133  2001-02          Chelsea      20\n",
       "149  2002-03          Arsenal      21\n",
       "170  2003-04          Arsenal      18\n",
       "191  2004-05          Arsenal      21\n",
       "224  2005-06       Man United      20\n",
       "238  2006-07          Chelsea      20\n",
       "266  2007-08       Man United      20\n",
       "279  2008-09          Chelsea      19\n",
       "302  2009-10          Chelsea      21\n",
       "329  2010-11       Man United      20\n",
       "348  2011-12       Man United      24\n",
       "367  2012-13       Man United      23\n",
       "389  2013-14        Liverpool      25\n",
       "401  2014-15          Arsenal      18\n",
       "429  2015-16        Leicester      17\n",
       "446  2016-17          Chelsea      21\n",
       "475  2017-18         Man City      24"
      ]
     },
     "execution_count": 31,
     "metadata": {},
     "output_type": "execute_result"
    }
   ],
   "source": [
    "#Now that we have how many games each team wins every season we can check which team wins the most games in each season at half time. \n",
    "j=i.groupby('Season').head(1)\n",
    "j"
   ]
  },
  {
   "cell_type": "code",
   "execution_count": 32,
   "metadata": {
    "scrolled": true
   },
   "outputs": [
    {
     "data": {
      "text/html": [
       "<div>\n",
       "<style scoped>\n",
       "    .dataframe tbody tr th:only-of-type {\n",
       "        vertical-align: middle;\n",
       "    }\n",
       "\n",
       "    .dataframe tbody tr th {\n",
       "        vertical-align: top;\n",
       "    }\n",
       "\n",
       "    .dataframe thead th {\n",
       "        text-align: right;\n",
       "    }\n",
       "</style>\n",
       "<table border=\"1\" class=\"dataframe\">\n",
       "  <thead>\n",
       "    <tr style=\"text-align: right;\">\n",
       "      <th></th>\n",
       "      <th>index</th>\n",
       "      <th>Half_Time_Winner</th>\n",
       "    </tr>\n",
       "  </thead>\n",
       "  <tbody>\n",
       "    <tr>\n",
       "      <th>0</th>\n",
       "      <td>Man United</td>\n",
       "      <td>8</td>\n",
       "    </tr>\n",
       "    <tr>\n",
       "      <th>1</th>\n",
       "      <td>Arsenal</td>\n",
       "      <td>6</td>\n",
       "    </tr>\n",
       "    <tr>\n",
       "      <th>2</th>\n",
       "      <td>Chelsea</td>\n",
       "      <td>6</td>\n",
       "    </tr>\n",
       "    <tr>\n",
       "      <th>3</th>\n",
       "      <td>Leicester</td>\n",
       "      <td>1</td>\n",
       "    </tr>\n",
       "    <tr>\n",
       "      <th>4</th>\n",
       "      <td>Man City</td>\n",
       "      <td>1</td>\n",
       "    </tr>\n",
       "    <tr>\n",
       "      <th>5</th>\n",
       "      <td>Liverpool</td>\n",
       "      <td>1</td>\n",
       "    </tr>\n",
       "  </tbody>\n",
       "</table>\n",
       "</div>"
      ],
      "text/plain": [
       "        index  Half_Time_Winner\n",
       "0  Man United                 8\n",
       "1     Arsenal                 6\n",
       "2     Chelsea                 6\n",
       "3   Leicester                 1\n",
       "4    Man City                 1\n",
       "5   Liverpool                 1"
      ]
     },
     "execution_count": 32,
     "metadata": {},
     "output_type": "execute_result"
    }
   ],
   "source": [
    "#Thus overall at half time throughout all the seasons we can see which teams are wining how mnay times.\n",
    "y=j['Half_Time_Winner'].value_counts().reset_index()\n",
    "y"
   ]
  },
  {
   "cell_type": "code",
   "execution_count": 13,
   "metadata": {
    "scrolled": true
   },
   "outputs": [
    {
     "data": {
      "text/plain": [
       "<matplotlib.axes._subplots.AxesSubplot at 0x1d385229af0>"
      ]
     },
     "execution_count": 13,
     "metadata": {},
     "output_type": "execute_result"
    },
    {
     "data": {
      "image/png": "[encoded data removed]",
      "text/plain": [
       "<Figure size 432x288 with 1 Axes>"
      ]
     },
     "metadata": {
      "needs_background": "light"
     },
     "output_type": "display_data"
    }
   ],
   "source": [
    "#This plots the teams that win during half-time.\n",
    "figsize = (20,10)\n",
    "sns.barplot(x='index', y='Half_Time_Winner', data=y, palette='RdPu')"
   ]
  },
  {
   "cell_type": "markdown",
   "metadata": {},
   "source": [
    "To check for the teams winning both at half time and at the end, we use our subsetted data."
   ]
  },
  {
   "cell_type": "code",
   "execution_count": 33,
   "metadata": {},
   "outputs": [
    {
     "data": {
      "text/html": [
       "<div>\n",
       "<style scoped>\n",
       "    .dataframe tbody tr th:only-of-type {\n",
       "        vertical-align: middle;\n",
       "    }\n",
       "\n",
       "    .dataframe tbody tr th {\n",
       "        vertical-align: top;\n",
       "    }\n",
       "\n",
       "    .dataframe thead th {\n",
       "        text-align: right;\n",
       "    }\n",
       "</style>\n",
       "<table border=\"1\" class=\"dataframe\">\n",
       "  <thead>\n",
       "    <tr style=\"text-align: right;\">\n",
       "      <th></th>\n",
       "      <th>Div</th>\n",
       "      <th>Date</th>\n",
       "      <th>HomeTeam</th>\n",
       "      <th>AwayTeam</th>\n",
       "      <th>FTHG</th>\n",
       "      <th>FTAG</th>\n",
       "      <th>FTR</th>\n",
       "      <th>HTHG</th>\n",
       "      <th>HTAG</th>\n",
       "      <th>HTR</th>\n",
       "      <th>Season</th>\n",
       "      <th>Winner</th>\n",
       "      <th>Half_Time_Winner</th>\n",
       "      <th>Same Winner</th>\n",
       "    </tr>\n",
       "  </thead>\n",
       "  <tbody>\n",
       "    <tr>\n",
       "      <th>0</th>\n",
       "      <td>E0</td>\n",
       "      <td>14/08/93</td>\n",
       "      <td>Arsenal</td>\n",
       "      <td>Coventry</td>\n",
       "      <td>0</td>\n",
       "      <td>3</td>\n",
       "      <td>A</td>\n",
       "      <td>NaN</td>\n",
       "      <td>NaN</td>\n",
       "      <td>NaN</td>\n",
       "      <td>1993-94</td>\n",
       "      <td>Coventry</td>\n",
       "      <td>0</td>\n",
       "      <td>0</td>\n",
       "    </tr>\n",
       "    <tr>\n",
       "      <th>1</th>\n",
       "      <td>E0</td>\n",
       "      <td>14/08/93</td>\n",
       "      <td>Aston Villa</td>\n",
       "      <td>QPR</td>\n",
       "      <td>4</td>\n",
       "      <td>1</td>\n",
       "      <td>H</td>\n",
       "      <td>NaN</td>\n",
       "      <td>NaN</td>\n",
       "      <td>NaN</td>\n",
       "      <td>1993-94</td>\n",
       "      <td>Aston Villa</td>\n",
       "      <td>0</td>\n",
       "      <td>0</td>\n",
       "    </tr>\n",
       "    <tr>\n",
       "      <th>2</th>\n",
       "      <td>E0</td>\n",
       "      <td>14/08/93</td>\n",
       "      <td>Chelsea</td>\n",
       "      <td>Blackburn</td>\n",
       "      <td>1</td>\n",
       "      <td>2</td>\n",
       "      <td>A</td>\n",
       "      <td>NaN</td>\n",
       "      <td>NaN</td>\n",
       "      <td>NaN</td>\n",
       "      <td>1993-94</td>\n",
       "      <td>Blackburn</td>\n",
       "      <td>0</td>\n",
       "      <td>0</td>\n",
       "    </tr>\n",
       "    <tr>\n",
       "      <th>3</th>\n",
       "      <td>E0</td>\n",
       "      <td>14/08/93</td>\n",
       "      <td>Liverpool</td>\n",
       "      <td>Sheffield Weds</td>\n",
       "      <td>2</td>\n",
       "      <td>0</td>\n",
       "      <td>H</td>\n",
       "      <td>NaN</td>\n",
       "      <td>NaN</td>\n",
       "      <td>NaN</td>\n",
       "      <td>1993-94</td>\n",
       "      <td>Liverpool</td>\n",
       "      <td>0</td>\n",
       "      <td>0</td>\n",
       "    </tr>\n",
       "    <tr>\n",
       "      <th>4</th>\n",
       "      <td>E0</td>\n",
       "      <td>14/08/93</td>\n",
       "      <td>Man City</td>\n",
       "      <td>Leeds</td>\n",
       "      <td>1</td>\n",
       "      <td>1</td>\n",
       "      <td>D</td>\n",
       "      <td>NaN</td>\n",
       "      <td>NaN</td>\n",
       "      <td>NaN</td>\n",
       "      <td>1993-94</td>\n",
       "      <td>Draw</td>\n",
       "      <td>0</td>\n",
       "      <td>0</td>\n",
       "    </tr>\n",
       "    <tr>\n",
       "      <th>...</th>\n",
       "      <td>...</td>\n",
       "      <td>...</td>\n",
       "      <td>...</td>\n",
       "      <td>...</td>\n",
       "      <td>...</td>\n",
       "      <td>...</td>\n",
       "      <td>...</td>\n",
       "      <td>...</td>\n",
       "      <td>...</td>\n",
       "      <td>...</td>\n",
       "      <td>...</td>\n",
       "      <td>...</td>\n",
       "      <td>...</td>\n",
       "      <td>...</td>\n",
       "    </tr>\n",
       "    <tr>\n",
       "      <th>9659</th>\n",
       "      <td>E0</td>\n",
       "      <td>13/05/18</td>\n",
       "      <td>Newcastle</td>\n",
       "      <td>Chelsea</td>\n",
       "      <td>3</td>\n",
       "      <td>0</td>\n",
       "      <td>H</td>\n",
       "      <td>1.0</td>\n",
       "      <td>0.0</td>\n",
       "      <td>H</td>\n",
       "      <td>2017-18</td>\n",
       "      <td>Newcastle</td>\n",
       "      <td>Newcastle</td>\n",
       "      <td>1</td>\n",
       "    </tr>\n",
       "    <tr>\n",
       "      <th>9660</th>\n",
       "      <td>E0</td>\n",
       "      <td>13/05/18</td>\n",
       "      <td>Southampton</td>\n",
       "      <td>Man City</td>\n",
       "      <td>0</td>\n",
       "      <td>1</td>\n",
       "      <td>A</td>\n",
       "      <td>0.0</td>\n",
       "      <td>0.0</td>\n",
       "      <td>D</td>\n",
       "      <td>2017-18</td>\n",
       "      <td>Man City</td>\n",
       "      <td>Draw</td>\n",
       "      <td>0</td>\n",
       "    </tr>\n",
       "    <tr>\n",
       "      <th>9661</th>\n",
       "      <td>E0</td>\n",
       "      <td>13/05/18</td>\n",
       "      <td>Swansea</td>\n",
       "      <td>Stoke</td>\n",
       "      <td>1</td>\n",
       "      <td>2</td>\n",
       "      <td>A</td>\n",
       "      <td>1.0</td>\n",
       "      <td>2.0</td>\n",
       "      <td>A</td>\n",
       "      <td>2017-18</td>\n",
       "      <td>Stoke</td>\n",
       "      <td>Stoke</td>\n",
       "      <td>1</td>\n",
       "    </tr>\n",
       "    <tr>\n",
       "      <th>9662</th>\n",
       "      <td>E0</td>\n",
       "      <td>13/05/18</td>\n",
       "      <td>Tottenham</td>\n",
       "      <td>Leicester</td>\n",
       "      <td>5</td>\n",
       "      <td>4</td>\n",
       "      <td>H</td>\n",
       "      <td>1.0</td>\n",
       "      <td>2.0</td>\n",
       "      <td>A</td>\n",
       "      <td>2017-18</td>\n",
       "      <td>Tottenham</td>\n",
       "      <td>Leicester</td>\n",
       "      <td>0</td>\n",
       "    </tr>\n",
       "    <tr>\n",
       "      <th>9663</th>\n",
       "      <td>E0</td>\n",
       "      <td>13/05/18</td>\n",
       "      <td>West Ham</td>\n",
       "      <td>Everton</td>\n",
       "      <td>3</td>\n",
       "      <td>1</td>\n",
       "      <td>H</td>\n",
       "      <td>1.0</td>\n",
       "      <td>0.0</td>\n",
       "      <td>H</td>\n",
       "      <td>2017-18</td>\n",
       "      <td>West Ham</td>\n",
       "      <td>West Ham</td>\n",
       "      <td>1</td>\n",
       "    </tr>\n",
       "  </tbody>\n",
       "</table>\n",
       "<p>9664 rows × 14 columns</p>\n",
       "</div>"
      ],
      "text/plain": [
       "     Div      Date     HomeTeam        AwayTeam  FTHG  FTAG FTR  HTHG  HTAG  \\\n",
       "0     E0  14/08/93      Arsenal        Coventry     0     3   A   NaN   NaN   \n",
       "1     E0  14/08/93  Aston Villa             QPR     4     1   H   NaN   NaN   \n",
       "2     E0  14/08/93      Chelsea       Blackburn     1     2   A   NaN   NaN   \n",
       "3     E0  14/08/93    Liverpool  Sheffield Weds     2     0   H   NaN   NaN   \n",
       "4     E0  14/08/93     Man City           Leeds     1     1   D   NaN   NaN   \n",
       "...   ..       ...          ...             ...   ...   ...  ..   ...   ...   \n",
       "9659  E0  13/05/18    Newcastle         Chelsea     3     0   H   1.0   0.0   \n",
       "9660  E0  13/05/18  Southampton        Man City     0     1   A   0.0   0.0   \n",
       "9661  E0  13/05/18      Swansea           Stoke     1     2   A   1.0   2.0   \n",
       "9662  E0  13/05/18    Tottenham       Leicester     5     4   H   1.0   2.0   \n",
       "9663  E0  13/05/18     West Ham         Everton     3     1   H   1.0   0.0   \n",
       "\n",
       "      HTR   Season       Winner Half_Time_Winner  Same Winner  \n",
       "0     NaN  1993-94     Coventry                0            0  \n",
       "1     NaN  1993-94  Aston Villa                0            0  \n",
       "2     NaN  1993-94    Blackburn                0            0  \n",
       "3     NaN  1993-94    Liverpool                0            0  \n",
       "4     NaN  1993-94         Draw                0            0  \n",
       "...   ...      ...          ...              ...          ...  \n",
       "9659    H  2017-18    Newcastle        Newcastle            1  \n",
       "9660    D  2017-18     Man City             Draw            0  \n",
       "9661    A  2017-18        Stoke            Stoke            1  \n",
       "9662    A  2017-18    Tottenham        Leicester            0  \n",
       "9663    H  2017-18     West Ham         West Ham            1  \n",
       "\n",
       "[9664 rows x 14 columns]"
      ]
     },
     "execution_count": 33,
     "metadata": {},
     "output_type": "execute_result"
    }
   ],
   "source": [
    "#Now we can check to see if the same team wins both at half time and at the end.\n",
    "k=df_epl\n",
    "k['Same Winner']=np.where(k['Winner']==k['Half_Time_Winner'],1,0)\n",
    "k"
   ]
  },
  {
   "cell_type": "code",
   "execution_count": 34,
   "metadata": {},
   "outputs": [
    {
     "data": {
      "text/html": [
       "<div>\n",
       "<style scoped>\n",
       "    .dataframe tbody tr th:only-of-type {\n",
       "        vertical-align: middle;\n",
       "    }\n",
       "\n",
       "    .dataframe tbody tr th {\n",
       "        vertical-align: top;\n",
       "    }\n",
       "\n",
       "    .dataframe thead th {\n",
       "        text-align: right;\n",
       "    }\n",
       "</style>\n",
       "<table border=\"1\" class=\"dataframe\">\n",
       "  <thead>\n",
       "    <tr style=\"text-align: right;\">\n",
       "      <th></th>\n",
       "      <th>Div</th>\n",
       "      <th>Date</th>\n",
       "      <th>HomeTeam</th>\n",
       "      <th>AwayTeam</th>\n",
       "      <th>FTHG</th>\n",
       "      <th>FTAG</th>\n",
       "      <th>FTR</th>\n",
       "      <th>HTHG</th>\n",
       "      <th>HTAG</th>\n",
       "      <th>HTR</th>\n",
       "      <th>Season</th>\n",
       "      <th>Winner</th>\n",
       "      <th>Half_Time_Winner</th>\n",
       "      <th>Same Winner</th>\n",
       "    </tr>\n",
       "  </thead>\n",
       "  <tbody>\n",
       "    <tr>\n",
       "      <th>924</th>\n",
       "      <td>E0</td>\n",
       "      <td>19/08/95</td>\n",
       "      <td>Aston Villa</td>\n",
       "      <td>Man United</td>\n",
       "      <td>3</td>\n",
       "      <td>1</td>\n",
       "      <td>H</td>\n",
       "      <td>3.0</td>\n",
       "      <td>0.0</td>\n",
       "      <td>H</td>\n",
       "      <td>1995-96</td>\n",
       "      <td>Aston Villa</td>\n",
       "      <td>Aston Villa</td>\n",
       "      <td>1</td>\n",
       "    </tr>\n",
       "    <tr>\n",
       "      <th>925</th>\n",
       "      <td>E0</td>\n",
       "      <td>19/08/95</td>\n",
       "      <td>Blackburn</td>\n",
       "      <td>QPR</td>\n",
       "      <td>1</td>\n",
       "      <td>0</td>\n",
       "      <td>H</td>\n",
       "      <td>1.0</td>\n",
       "      <td>0.0</td>\n",
       "      <td>H</td>\n",
       "      <td>1995-96</td>\n",
       "      <td>Blackburn</td>\n",
       "      <td>Blackburn</td>\n",
       "      <td>1</td>\n",
       "    </tr>\n",
       "    <tr>\n",
       "      <th>926</th>\n",
       "      <td>E0</td>\n",
       "      <td>19/08/95</td>\n",
       "      <td>Chelsea</td>\n",
       "      <td>Everton</td>\n",
       "      <td>0</td>\n",
       "      <td>0</td>\n",
       "      <td>D</td>\n",
       "      <td>0.0</td>\n",
       "      <td>0.0</td>\n",
       "      <td>D</td>\n",
       "      <td>1995-96</td>\n",
       "      <td>Draw</td>\n",
       "      <td>Draw</td>\n",
       "      <td>1</td>\n",
       "    </tr>\n",
       "    <tr>\n",
       "      <th>929</th>\n",
       "      <td>E0</td>\n",
       "      <td>19/08/95</td>\n",
       "      <td>Newcastle</td>\n",
       "      <td>Coventry</td>\n",
       "      <td>3</td>\n",
       "      <td>0</td>\n",
       "      <td>H</td>\n",
       "      <td>1.0</td>\n",
       "      <td>0.0</td>\n",
       "      <td>H</td>\n",
       "      <td>1995-96</td>\n",
       "      <td>Newcastle</td>\n",
       "      <td>Newcastle</td>\n",
       "      <td>1</td>\n",
       "    </tr>\n",
       "    <tr>\n",
       "      <th>930</th>\n",
       "      <td>E0</td>\n",
       "      <td>19/08/95</td>\n",
       "      <td>Southampton</td>\n",
       "      <td>Nott'm Forest</td>\n",
       "      <td>3</td>\n",
       "      <td>4</td>\n",
       "      <td>A</td>\n",
       "      <td>1.0</td>\n",
       "      <td>3.0</td>\n",
       "      <td>A</td>\n",
       "      <td>1995-96</td>\n",
       "      <td>Nott'm Forest</td>\n",
       "      <td>Nott'm Forest</td>\n",
       "      <td>1</td>\n",
       "    </tr>\n",
       "  </tbody>\n",
       "</table>\n",
       "</div>"
      ],
      "text/plain": [
       "    Div      Date     HomeTeam       AwayTeam  FTHG  FTAG FTR  HTHG  HTAG HTR  \\\n",
       "924  E0  19/08/95  Aston Villa     Man United     3     1   H   3.0   0.0   H   \n",
       "925  E0  19/08/95    Blackburn            QPR     1     0   H   1.0   0.0   H   \n",
       "926  E0  19/08/95      Chelsea        Everton     0     0   D   0.0   0.0   D   \n",
       "929  E0  19/08/95    Newcastle       Coventry     3     0   H   1.0   0.0   H   \n",
       "930  E0  19/08/95  Southampton  Nott'm Forest     3     4   A   1.0   3.0   A   \n",
       "\n",
       "      Season         Winner Half_Time_Winner  Same Winner  \n",
       "924  1995-96    Aston Villa      Aston Villa            1  \n",
       "925  1995-96      Blackburn        Blackburn            1  \n",
       "926  1995-96           Draw             Draw            1  \n",
       "929  1995-96      Newcastle        Newcastle            1  \n",
       "930  1995-96  Nott'm Forest    Nott'm Forest            1  "
      ]
     },
     "execution_count": 34,
     "metadata": {},
     "output_type": "execute_result"
    }
   ],
   "source": [
    "k[k['Same Winner']==1].head()"
   ]
  },
  {
   "cell_type": "code",
   "execution_count": 35,
   "metadata": {},
   "outputs": [
    {
     "name": "stdout",
     "output_type": "stream",
     "text": [
      "3868\n",
      "4207\n",
      "0.9184692179700499\n"
     ]
    }
   ],
   "source": [
    "x=k[(k.Winner.str.contains('Draw')==False)&(k.Half_Time_Winner.str.contains('Draw')==False)]\n",
    "print(x['Same Winner'].sum())\n",
    "print(len(x))\n",
    "print(3864/4207)"
   ]
  },
  {
   "cell_type": "code",
   "execution_count": 36,
   "metadata": {},
   "outputs": [
    {
     "name": "stdout",
     "output_type": "stream",
     "text": [
      "7972\n",
      "3868\n",
      "0.5281267067176406\n"
     ]
    }
   ],
   "source": [
    "q=k[(k.Winner.str.contains('Draw')==False)|(k.Half_Time_Winner.str.contains('Draw')==False)]\n",
    "q.head()\n",
    "print(len(q))\n",
    "print(x['Same Winner'].sum())\n",
    "print(3868/7324)"
   ]
  },
  {
   "cell_type": "code",
   "execution_count": 37,
   "metadata": {},
   "outputs": [],
   "source": [
    "#We define a new dataset that contains all the data that has no Draw data.\n",
    "epl_data_half_nodraw=df_epl[df_epl.Half_Time_Winner.str.contains('Draw')==False]\n",
    "epl_data_half_nodraw=epl_data_half_nodraw[epl_data_half_nodraw.Winner.str.contains('Draw')==False]\n",
    "epl_data_half_nodraw['Same Winner']=np.where(epl_data_half_nodraw['Winner']==epl_data_half_nodraw['Half_Time_Winner'],1,0)\n",
    "df_epl['Same Winner']=np.where(df_epl['Winner']==df_epl['Half_Time_Winner'],1,0)\n",
    "#Now we define a datset for no draw data with the full dataset\n",
    "epl_data_nodraw=df_epl[df_epl.Winner.str.contains('Draw')==False]"
   ]
  },
  {
   "cell_type": "markdown",
   "metadata": {},
   "source": [
    "- This gives us the games that are draw at half time but are won by a team in the end. There are 2236 such games."
   ]
  },
  {
   "cell_type": "code",
   "execution_count": 39,
   "metadata": {
    "scrolled": true
   },
   "outputs": [
    {
     "data": {
      "text/html": [
       "<div>\n",
       "<style scoped>\n",
       "    .dataframe tbody tr th:only-of-type {\n",
       "        vertical-align: middle;\n",
       "    }\n",
       "\n",
       "    .dataframe tbody tr th {\n",
       "        vertical-align: top;\n",
       "    }\n",
       "\n",
       "    .dataframe thead th {\n",
       "        text-align: right;\n",
       "    }\n",
       "</style>\n",
       "<table border=\"1\" class=\"dataframe\">\n",
       "  <thead>\n",
       "    <tr style=\"text-align: right;\">\n",
       "      <th></th>\n",
       "      <th>Div</th>\n",
       "      <th>Date</th>\n",
       "      <th>HomeTeam</th>\n",
       "      <th>AwayTeam</th>\n",
       "      <th>FTHG</th>\n",
       "      <th>FTAG</th>\n",
       "      <th>FTR</th>\n",
       "      <th>HTHG</th>\n",
       "      <th>HTAG</th>\n",
       "      <th>HTR</th>\n",
       "      <th>Season</th>\n",
       "      <th>Winner</th>\n",
       "      <th>Half_Time_Winner</th>\n",
       "      <th>Same Winner</th>\n",
       "    </tr>\n",
       "  </thead>\n",
       "  <tbody>\n",
       "    <tr>\n",
       "      <th>927</th>\n",
       "      <td>E0</td>\n",
       "      <td>19/08/95</td>\n",
       "      <td>Liverpool</td>\n",
       "      <td>Sheffield Weds</td>\n",
       "      <td>1</td>\n",
       "      <td>0</td>\n",
       "      <td>H</td>\n",
       "      <td>0.0</td>\n",
       "      <td>0.0</td>\n",
       "      <td>D</td>\n",
       "      <td>1995-96</td>\n",
       "      <td>Liverpool</td>\n",
       "      <td>Draw</td>\n",
       "      <td>0</td>\n",
       "    </tr>\n",
       "    <tr>\n",
       "      <th>932</th>\n",
       "      <td>E0</td>\n",
       "      <td>19/08/95</td>\n",
       "      <td>Wimbledon</td>\n",
       "      <td>Bolton</td>\n",
       "      <td>3</td>\n",
       "      <td>2</td>\n",
       "      <td>H</td>\n",
       "      <td>2.0</td>\n",
       "      <td>2.0</td>\n",
       "      <td>D</td>\n",
       "      <td>1995-96</td>\n",
       "      <td>Wimbledon</td>\n",
       "      <td>Draw</td>\n",
       "      <td>0</td>\n",
       "    </tr>\n",
       "    <tr>\n",
       "      <th>934</th>\n",
       "      <td>E0</td>\n",
       "      <td>21/08/95</td>\n",
       "      <td>Leeds</td>\n",
       "      <td>Liverpool</td>\n",
       "      <td>1</td>\n",
       "      <td>0</td>\n",
       "      <td>H</td>\n",
       "      <td>0.0</td>\n",
       "      <td>0.0</td>\n",
       "      <td>D</td>\n",
       "      <td>1995-96</td>\n",
       "      <td>Leeds</td>\n",
       "      <td>Draw</td>\n",
       "      <td>0</td>\n",
       "    </tr>\n",
       "    <tr>\n",
       "      <th>937</th>\n",
       "      <td>E0</td>\n",
       "      <td>23/08/95</td>\n",
       "      <td>Everton</td>\n",
       "      <td>Arsenal</td>\n",
       "      <td>0</td>\n",
       "      <td>2</td>\n",
       "      <td>A</td>\n",
       "      <td>0.0</td>\n",
       "      <td>0.0</td>\n",
       "      <td>D</td>\n",
       "      <td>1995-96</td>\n",
       "      <td>Arsenal</td>\n",
       "      <td>Draw</td>\n",
       "      <td>0</td>\n",
       "    </tr>\n",
       "    <tr>\n",
       "      <th>938</th>\n",
       "      <td>E0</td>\n",
       "      <td>23/08/95</td>\n",
       "      <td>Man United</td>\n",
       "      <td>West Ham</td>\n",
       "      <td>2</td>\n",
       "      <td>1</td>\n",
       "      <td>H</td>\n",
       "      <td>0.0</td>\n",
       "      <td>0.0</td>\n",
       "      <td>D</td>\n",
       "      <td>1995-96</td>\n",
       "      <td>Man United</td>\n",
       "      <td>Draw</td>\n",
       "      <td>0</td>\n",
       "    </tr>\n",
       "    <tr>\n",
       "      <th>...</th>\n",
       "      <td>...</td>\n",
       "      <td>...</td>\n",
       "      <td>...</td>\n",
       "      <td>...</td>\n",
       "      <td>...</td>\n",
       "      <td>...</td>\n",
       "      <td>...</td>\n",
       "      <td>...</td>\n",
       "      <td>...</td>\n",
       "      <td>...</td>\n",
       "      <td>...</td>\n",
       "      <td>...</td>\n",
       "      <td>...</td>\n",
       "      <td>...</td>\n",
       "    </tr>\n",
       "    <tr>\n",
       "      <th>9644</th>\n",
       "      <td>E0</td>\n",
       "      <td>5/5/2018</td>\n",
       "      <td>West Brom</td>\n",
       "      <td>Tottenham</td>\n",
       "      <td>1</td>\n",
       "      <td>0</td>\n",
       "      <td>H</td>\n",
       "      <td>0.0</td>\n",
       "      <td>0.0</td>\n",
       "      <td>D</td>\n",
       "      <td>2017-18</td>\n",
       "      <td>West Brom</td>\n",
       "      <td>Draw</td>\n",
       "      <td>0</td>\n",
       "    </tr>\n",
       "    <tr>\n",
       "      <th>9648</th>\n",
       "      <td>E0</td>\n",
       "      <td>8/5/2018</td>\n",
       "      <td>Swansea</td>\n",
       "      <td>Southampton</td>\n",
       "      <td>0</td>\n",
       "      <td>1</td>\n",
       "      <td>A</td>\n",
       "      <td>0.0</td>\n",
       "      <td>0.0</td>\n",
       "      <td>D</td>\n",
       "      <td>2017-18</td>\n",
       "      <td>Southampton</td>\n",
       "      <td>Draw</td>\n",
       "      <td>0</td>\n",
       "    </tr>\n",
       "    <tr>\n",
       "      <th>9652</th>\n",
       "      <td>E0</td>\n",
       "      <td>9/5/2018</td>\n",
       "      <td>Tottenham</td>\n",
       "      <td>Newcastle</td>\n",
       "      <td>1</td>\n",
       "      <td>0</td>\n",
       "      <td>H</td>\n",
       "      <td>0.0</td>\n",
       "      <td>0.0</td>\n",
       "      <td>D</td>\n",
       "      <td>2017-18</td>\n",
       "      <td>Tottenham</td>\n",
       "      <td>Draw</td>\n",
       "      <td>0</td>\n",
       "    </tr>\n",
       "    <tr>\n",
       "      <th>9655</th>\n",
       "      <td>E0</td>\n",
       "      <td>13/05/18</td>\n",
       "      <td>Crystal Palace</td>\n",
       "      <td>West Brom</td>\n",
       "      <td>2</td>\n",
       "      <td>0</td>\n",
       "      <td>H</td>\n",
       "      <td>0.0</td>\n",
       "      <td>0.0</td>\n",
       "      <td>D</td>\n",
       "      <td>2017-18</td>\n",
       "      <td>Crystal Palace</td>\n",
       "      <td>Draw</td>\n",
       "      <td>0</td>\n",
       "    </tr>\n",
       "    <tr>\n",
       "      <th>9660</th>\n",
       "      <td>E0</td>\n",
       "      <td>13/05/18</td>\n",
       "      <td>Southampton</td>\n",
       "      <td>Man City</td>\n",
       "      <td>0</td>\n",
       "      <td>1</td>\n",
       "      <td>A</td>\n",
       "      <td>0.0</td>\n",
       "      <td>0.0</td>\n",
       "      <td>D</td>\n",
       "      <td>2017-18</td>\n",
       "      <td>Man City</td>\n",
       "      <td>Draw</td>\n",
       "      <td>0</td>\n",
       "    </tr>\n",
       "  </tbody>\n",
       "</table>\n",
       "<p>2263 rows × 14 columns</p>\n",
       "</div>"
      ],
      "text/plain": [
       "     Div      Date        HomeTeam        AwayTeam  FTHG  FTAG FTR  HTHG  \\\n",
       "927   E0  19/08/95       Liverpool  Sheffield Weds     1     0   H   0.0   \n",
       "932   E0  19/08/95       Wimbledon          Bolton     3     2   H   2.0   \n",
       "934   E0  21/08/95           Leeds       Liverpool     1     0   H   0.0   \n",
       "937   E0  23/08/95         Everton         Arsenal     0     2   A   0.0   \n",
       "938   E0  23/08/95      Man United        West Ham     2     1   H   0.0   \n",
       "...   ..       ...             ...             ...   ...   ...  ..   ...   \n",
       "9644  E0  5/5/2018       West Brom       Tottenham     1     0   H   0.0   \n",
       "9648  E0  8/5/2018         Swansea     Southampton     0     1   A   0.0   \n",
       "9652  E0  9/5/2018       Tottenham       Newcastle     1     0   H   0.0   \n",
       "9655  E0  13/05/18  Crystal Palace       West Brom     2     0   H   0.0   \n",
       "9660  E0  13/05/18     Southampton        Man City     0     1   A   0.0   \n",
       "\n",
       "      HTAG HTR   Season          Winner Half_Time_Winner  Same Winner  \n",
       "927    0.0   D  1995-96       Liverpool             Draw            0  \n",
       "932    2.0   D  1995-96       Wimbledon             Draw            0  \n",
       "934    0.0   D  1995-96           Leeds             Draw            0  \n",
       "937    0.0   D  1995-96         Arsenal             Draw            0  \n",
       "938    0.0   D  1995-96      Man United             Draw            0  \n",
       "...    ...  ..      ...             ...              ...          ...  \n",
       "9644   0.0   D  2017-18       West Brom             Draw            0  \n",
       "9648   0.0   D  2017-18     Southampton             Draw            0  \n",
       "9652   0.0   D  2017-18       Tottenham             Draw            0  \n",
       "9655   0.0   D  2017-18  Crystal Palace             Draw            0  \n",
       "9660   0.0   D  2017-18        Man City             Draw            0  \n",
       "\n",
       "[2263 rows x 14 columns]"
      ]
     },
     "execution_count": 39,
     "metadata": {},
     "output_type": "execute_result"
    }
   ],
   "source": [
    "df_epl[(df_epl['Half_Time_Winner']=='Draw') & (df_epl['Same Winner']==0)]"
   ]
  },
  {
   "cell_type": "markdown",
   "metadata": {},
   "source": [
    "- These are the games that end in draw when the game is at draw at half time also. There are 1416 such games"
   ]
  },
  {
   "cell_type": "code",
   "execution_count": 41,
   "metadata": {},
   "outputs": [
    {
     "data": {
      "text/html": [
       "<div>\n",
       "<style scoped>\n",
       "    .dataframe tbody tr th:only-of-type {\n",
       "        vertical-align: middle;\n",
       "    }\n",
       "\n",
       "    .dataframe tbody tr th {\n",
       "        vertical-align: top;\n",
       "    }\n",
       "\n",
       "    .dataframe thead th {\n",
       "        text-align: right;\n",
       "    }\n",
       "</style>\n",
       "<table border=\"1\" class=\"dataframe\">\n",
       "  <thead>\n",
       "    <tr style=\"text-align: right;\">\n",
       "      <th></th>\n",
       "      <th>Div</th>\n",
       "      <th>Date</th>\n",
       "      <th>HomeTeam</th>\n",
       "      <th>AwayTeam</th>\n",
       "      <th>FTHG</th>\n",
       "      <th>FTAG</th>\n",
       "      <th>FTR</th>\n",
       "      <th>HTHG</th>\n",
       "      <th>HTAG</th>\n",
       "      <th>HTR</th>\n",
       "      <th>Season</th>\n",
       "      <th>Winner</th>\n",
       "      <th>Half_Time_Winner</th>\n",
       "      <th>Same Winner</th>\n",
       "    </tr>\n",
       "  </thead>\n",
       "  <tbody>\n",
       "    <tr>\n",
       "      <th>926</th>\n",
       "      <td>E0</td>\n",
       "      <td>19/08/95</td>\n",
       "      <td>Chelsea</td>\n",
       "      <td>Everton</td>\n",
       "      <td>0</td>\n",
       "      <td>0</td>\n",
       "      <td>D</td>\n",
       "      <td>0.0</td>\n",
       "      <td>0.0</td>\n",
       "      <td>D</td>\n",
       "      <td>1995-96</td>\n",
       "      <td>Draw</td>\n",
       "      <td>Draw</td>\n",
       "      <td>1</td>\n",
       "    </tr>\n",
       "    <tr>\n",
       "      <th>933</th>\n",
       "      <td>E0</td>\n",
       "      <td>20/08/95</td>\n",
       "      <td>Arsenal</td>\n",
       "      <td>Middlesbrough</td>\n",
       "      <td>1</td>\n",
       "      <td>1</td>\n",
       "      <td>D</td>\n",
       "      <td>1.0</td>\n",
       "      <td>1.0</td>\n",
       "      <td>D</td>\n",
       "      <td>1995-96</td>\n",
       "      <td>Draw</td>\n",
       "      <td>Draw</td>\n",
       "      <td>1</td>\n",
       "    </tr>\n",
       "    <tr>\n",
       "      <th>939</th>\n",
       "      <td>E0</td>\n",
       "      <td>23/08/95</td>\n",
       "      <td>Nott'm Forest</td>\n",
       "      <td>Chelsea</td>\n",
       "      <td>0</td>\n",
       "      <td>0</td>\n",
       "      <td>D</td>\n",
       "      <td>0.0</td>\n",
       "      <td>0.0</td>\n",
       "      <td>D</td>\n",
       "      <td>1995-96</td>\n",
       "      <td>Draw</td>\n",
       "      <td>Draw</td>\n",
       "      <td>1</td>\n",
       "    </tr>\n",
       "    <tr>\n",
       "      <th>944</th>\n",
       "      <td>E0</td>\n",
       "      <td>26/08/95</td>\n",
       "      <td>Coventry</td>\n",
       "      <td>Arsenal</td>\n",
       "      <td>0</td>\n",
       "      <td>0</td>\n",
       "      <td>D</td>\n",
       "      <td>0.0</td>\n",
       "      <td>0.0</td>\n",
       "      <td>D</td>\n",
       "      <td>1995-96</td>\n",
       "      <td>Draw</td>\n",
       "      <td>Draw</td>\n",
       "      <td>1</td>\n",
       "    </tr>\n",
       "    <tr>\n",
       "      <th>949</th>\n",
       "      <td>E0</td>\n",
       "      <td>26/08/95</td>\n",
       "      <td>Nott'm Forest</td>\n",
       "      <td>West Ham</td>\n",
       "      <td>1</td>\n",
       "      <td>1</td>\n",
       "      <td>D</td>\n",
       "      <td>1.0</td>\n",
       "      <td>1.0</td>\n",
       "      <td>D</td>\n",
       "      <td>1995-96</td>\n",
       "      <td>Draw</td>\n",
       "      <td>Draw</td>\n",
       "      <td>1</td>\n",
       "    </tr>\n",
       "    <tr>\n",
       "      <th>...</th>\n",
       "      <td>...</td>\n",
       "      <td>...</td>\n",
       "      <td>...</td>\n",
       "      <td>...</td>\n",
       "      <td>...</td>\n",
       "      <td>...</td>\n",
       "      <td>...</td>\n",
       "      <td>...</td>\n",
       "      <td>...</td>\n",
       "      <td>...</td>\n",
       "      <td>...</td>\n",
       "      <td>...</td>\n",
       "      <td>...</td>\n",
       "      <td>...</td>\n",
       "    </tr>\n",
       "    <tr>\n",
       "      <th>9631</th>\n",
       "      <td>E0</td>\n",
       "      <td>28/04/18</td>\n",
       "      <td>Liverpool</td>\n",
       "      <td>Stoke</td>\n",
       "      <td>0</td>\n",
       "      <td>0</td>\n",
       "      <td>D</td>\n",
       "      <td>0.0</td>\n",
       "      <td>0.0</td>\n",
       "      <td>D</td>\n",
       "      <td>2017-18</td>\n",
       "      <td>Draw</td>\n",
       "      <td>Draw</td>\n",
       "      <td>1</td>\n",
       "    </tr>\n",
       "    <tr>\n",
       "      <th>9640</th>\n",
       "      <td>E0</td>\n",
       "      <td>5/5/2018</td>\n",
       "      <td>Everton</td>\n",
       "      <td>Southampton</td>\n",
       "      <td>1</td>\n",
       "      <td>1</td>\n",
       "      <td>D</td>\n",
       "      <td>0.0</td>\n",
       "      <td>0.0</td>\n",
       "      <td>D</td>\n",
       "      <td>2017-18</td>\n",
       "      <td>Draw</td>\n",
       "      <td>Draw</td>\n",
       "      <td>1</td>\n",
       "    </tr>\n",
       "    <tr>\n",
       "      <th>9647</th>\n",
       "      <td>E0</td>\n",
       "      <td>6/5/2018</td>\n",
       "      <td>Man City</td>\n",
       "      <td>Huddersfield</td>\n",
       "      <td>0</td>\n",
       "      <td>0</td>\n",
       "      <td>D</td>\n",
       "      <td>0.0</td>\n",
       "      <td>0.0</td>\n",
       "      <td>D</td>\n",
       "      <td>2017-18</td>\n",
       "      <td>Draw</td>\n",
       "      <td>Draw</td>\n",
       "      <td>1</td>\n",
       "    </tr>\n",
       "    <tr>\n",
       "      <th>9649</th>\n",
       "      <td>E0</td>\n",
       "      <td>9/5/2018</td>\n",
       "      <td>Chelsea</td>\n",
       "      <td>Huddersfield</td>\n",
       "      <td>1</td>\n",
       "      <td>1</td>\n",
       "      <td>D</td>\n",
       "      <td>0.0</td>\n",
       "      <td>0.0</td>\n",
       "      <td>D</td>\n",
       "      <td>2017-18</td>\n",
       "      <td>Draw</td>\n",
       "      <td>Draw</td>\n",
       "      <td>1</td>\n",
       "    </tr>\n",
       "    <tr>\n",
       "      <th>9653</th>\n",
       "      <td>E0</td>\n",
       "      <td>10/5/2018</td>\n",
       "      <td>West Ham</td>\n",
       "      <td>Man United</td>\n",
       "      <td>0</td>\n",
       "      <td>0</td>\n",
       "      <td>D</td>\n",
       "      <td>0.0</td>\n",
       "      <td>0.0</td>\n",
       "      <td>D</td>\n",
       "      <td>2017-18</td>\n",
       "      <td>Draw</td>\n",
       "      <td>Draw</td>\n",
       "      <td>1</td>\n",
       "    </tr>\n",
       "  </tbody>\n",
       "</table>\n",
       "<p>1416 rows × 14 columns</p>\n",
       "</div>"
      ],
      "text/plain": [
       "     Div       Date       HomeTeam       AwayTeam  FTHG  FTAG FTR  HTHG  HTAG  \\\n",
       "926   E0   19/08/95        Chelsea        Everton     0     0   D   0.0   0.0   \n",
       "933   E0   20/08/95        Arsenal  Middlesbrough     1     1   D   1.0   1.0   \n",
       "939   E0   23/08/95  Nott'm Forest        Chelsea     0     0   D   0.0   0.0   \n",
       "944   E0   26/08/95       Coventry        Arsenal     0     0   D   0.0   0.0   \n",
       "949   E0   26/08/95  Nott'm Forest       West Ham     1     1   D   1.0   1.0   \n",
       "...   ..        ...            ...            ...   ...   ...  ..   ...   ...   \n",
       "9631  E0   28/04/18      Liverpool          Stoke     0     0   D   0.0   0.0   \n",
       "9640  E0   5/5/2018        Everton    Southampton     1     1   D   0.0   0.0   \n",
       "9647  E0   6/5/2018       Man City   Huddersfield     0     0   D   0.0   0.0   \n",
       "9649  E0   9/5/2018        Chelsea   Huddersfield     1     1   D   0.0   0.0   \n",
       "9653  E0  10/5/2018       West Ham     Man United     0     0   D   0.0   0.0   \n",
       "\n",
       "     HTR   Season Winner Half_Time_Winner  Same Winner  \n",
       "926    D  1995-96   Draw             Draw            1  \n",
       "933    D  1995-96   Draw             Draw            1  \n",
       "939    D  1995-96   Draw             Draw            1  \n",
       "944    D  1995-96   Draw             Draw            1  \n",
       "949    D  1995-96   Draw             Draw            1  \n",
       "...   ..      ...    ...              ...          ...  \n",
       "9631   D  2017-18   Draw             Draw            1  \n",
       "9640   D  2017-18   Draw             Draw            1  \n",
       "9647   D  2017-18   Draw             Draw            1  \n",
       "9649   D  2017-18   Draw             Draw            1  \n",
       "9653   D  2017-18   Draw             Draw            1  \n",
       "\n",
       "[1416 rows x 14 columns]"
      ]
     },
     "execution_count": 41,
     "metadata": {},
     "output_type": "execute_result"
    }
   ],
   "source": [
    "df_epl[(df_epl['Winner']=='Draw') & (df_epl['Same Winner']==1)]"
   ]
  },
  {
   "cell_type": "code",
   "execution_count": 42,
   "metadata": {},
   "outputs": [
    {
     "name": "stdout",
     "output_type": "stream",
     "text": [
      "0.6151128023919543\n"
     ]
    }
   ],
   "source": [
    "print(2263/(1416+2263))"
   ]
  },
  {
   "cell_type": "code",
   "execution_count": 43,
   "metadata": {},
   "outputs": [
    {
     "name": "stdout",
     "output_type": "stream",
     "text": [
      "0.6663615560640732\n"
     ]
    }
   ],
   "source": [
    "print(5824/8740)"
   ]
  },
  {
   "cell_type": "code",
   "execution_count": 44,
   "metadata": {},
   "outputs": [
    {
     "name": "stdout",
     "output_type": "stream",
     "text": [
      "0.6018569087930092\n"
     ]
    }
   ],
   "source": [
    "print((5824-1416)/(8740-1416))"
   ]
  },
  {
   "cell_type": "markdown",
   "metadata": {},
   "source": [
    "#### To check for Home Advantage."
   ]
  },
  {
   "cell_type": "code",
   "execution_count": 45,
   "metadata": {},
   "outputs": [
    {
     "data": {
      "text/html": [
       "<div>\n",
       "<style scoped>\n",
       "    .dataframe tbody tr th:only-of-type {\n",
       "        vertical-align: middle;\n",
       "    }\n",
       "\n",
       "    .dataframe tbody tr th {\n",
       "        vertical-align: top;\n",
       "    }\n",
       "\n",
       "    .dataframe thead th {\n",
       "        text-align: right;\n",
       "    }\n",
       "</style>\n",
       "<table border=\"1\" class=\"dataframe\">\n",
       "  <thead>\n",
       "    <tr style=\"text-align: right;\">\n",
       "      <th></th>\n",
       "      <th>Div</th>\n",
       "      <th>Date</th>\n",
       "      <th>HomeTeam</th>\n",
       "      <th>AwayTeam</th>\n",
       "      <th>FTHG</th>\n",
       "      <th>FTAG</th>\n",
       "      <th>FTR</th>\n",
       "      <th>HTHG</th>\n",
       "      <th>HTAG</th>\n",
       "      <th>HTR</th>\n",
       "      <th>Season</th>\n",
       "      <th>Winner</th>\n",
       "      <th>Half_Time_Winner</th>\n",
       "      <th>Same Winner</th>\n",
       "    </tr>\n",
       "  </thead>\n",
       "  <tbody>\n",
       "    <tr>\n",
       "      <th>1</th>\n",
       "      <td>E0</td>\n",
       "      <td>14/08/93</td>\n",
       "      <td>Aston Villa</td>\n",
       "      <td>QPR</td>\n",
       "      <td>4</td>\n",
       "      <td>1</td>\n",
       "      <td>H</td>\n",
       "      <td>NaN</td>\n",
       "      <td>NaN</td>\n",
       "      <td>NaN</td>\n",
       "      <td>1993-94</td>\n",
       "      <td>Aston Villa</td>\n",
       "      <td>0</td>\n",
       "      <td>0</td>\n",
       "    </tr>\n",
       "    <tr>\n",
       "      <th>3</th>\n",
       "      <td>E0</td>\n",
       "      <td>14/08/93</td>\n",
       "      <td>Liverpool</td>\n",
       "      <td>Sheffield Weds</td>\n",
       "      <td>2</td>\n",
       "      <td>0</td>\n",
       "      <td>H</td>\n",
       "      <td>NaN</td>\n",
       "      <td>NaN</td>\n",
       "      <td>NaN</td>\n",
       "      <td>1993-94</td>\n",
       "      <td>Liverpool</td>\n",
       "      <td>0</td>\n",
       "      <td>0</td>\n",
       "    </tr>\n",
       "    <tr>\n",
       "      <th>7</th>\n",
       "      <td>E0</td>\n",
       "      <td>14/08/93</td>\n",
       "      <td>Sheffield United</td>\n",
       "      <td>Swindon</td>\n",
       "      <td>3</td>\n",
       "      <td>1</td>\n",
       "      <td>H</td>\n",
       "      <td>NaN</td>\n",
       "      <td>NaN</td>\n",
       "      <td>NaN</td>\n",
       "      <td>1993-94</td>\n",
       "      <td>Sheffield United</td>\n",
       "      <td>0</td>\n",
       "      <td>0</td>\n",
       "    </tr>\n",
       "    <tr>\n",
       "      <th>12</th>\n",
       "      <td>E0</td>\n",
       "      <td>17/08/93</td>\n",
       "      <td>Everton</td>\n",
       "      <td>Man City</td>\n",
       "      <td>1</td>\n",
       "      <td>0</td>\n",
       "      <td>H</td>\n",
       "      <td>NaN</td>\n",
       "      <td>NaN</td>\n",
       "      <td>NaN</td>\n",
       "      <td>1993-94</td>\n",
       "      <td>Everton</td>\n",
       "      <td>0</td>\n",
       "      <td>0</td>\n",
       "    </tr>\n",
       "    <tr>\n",
       "      <th>13</th>\n",
       "      <td>E0</td>\n",
       "      <td>17/08/93</td>\n",
       "      <td>Ipswich</td>\n",
       "      <td>Southampton</td>\n",
       "      <td>1</td>\n",
       "      <td>0</td>\n",
       "      <td>H</td>\n",
       "      <td>NaN</td>\n",
       "      <td>NaN</td>\n",
       "      <td>NaN</td>\n",
       "      <td>1993-94</td>\n",
       "      <td>Ipswich</td>\n",
       "      <td>0</td>\n",
       "      <td>0</td>\n",
       "    </tr>\n",
       "    <tr>\n",
       "      <th>...</th>\n",
       "      <td>...</td>\n",
       "      <td>...</td>\n",
       "      <td>...</td>\n",
       "      <td>...</td>\n",
       "      <td>...</td>\n",
       "      <td>...</td>\n",
       "      <td>...</td>\n",
       "      <td>...</td>\n",
       "      <td>...</td>\n",
       "      <td>...</td>\n",
       "      <td>...</td>\n",
       "      <td>...</td>\n",
       "      <td>...</td>\n",
       "      <td>...</td>\n",
       "    </tr>\n",
       "    <tr>\n",
       "      <th>9657</th>\n",
       "      <td>E0</td>\n",
       "      <td>13/05/18</td>\n",
       "      <td>Liverpool</td>\n",
       "      <td>Brighton</td>\n",
       "      <td>4</td>\n",
       "      <td>0</td>\n",
       "      <td>H</td>\n",
       "      <td>2.0</td>\n",
       "      <td>0.0</td>\n",
       "      <td>H</td>\n",
       "      <td>2017-18</td>\n",
       "      <td>Liverpool</td>\n",
       "      <td>Liverpool</td>\n",
       "      <td>1</td>\n",
       "    </tr>\n",
       "    <tr>\n",
       "      <th>9658</th>\n",
       "      <td>E0</td>\n",
       "      <td>13/05/18</td>\n",
       "      <td>Man United</td>\n",
       "      <td>Watford</td>\n",
       "      <td>1</td>\n",
       "      <td>0</td>\n",
       "      <td>H</td>\n",
       "      <td>1.0</td>\n",
       "      <td>0.0</td>\n",
       "      <td>H</td>\n",
       "      <td>2017-18</td>\n",
       "      <td>Man United</td>\n",
       "      <td>Man United</td>\n",
       "      <td>1</td>\n",
       "    </tr>\n",
       "    <tr>\n",
       "      <th>9659</th>\n",
       "      <td>E0</td>\n",
       "      <td>13/05/18</td>\n",
       "      <td>Newcastle</td>\n",
       "      <td>Chelsea</td>\n",
       "      <td>3</td>\n",
       "      <td>0</td>\n",
       "      <td>H</td>\n",
       "      <td>1.0</td>\n",
       "      <td>0.0</td>\n",
       "      <td>H</td>\n",
       "      <td>2017-18</td>\n",
       "      <td>Newcastle</td>\n",
       "      <td>Newcastle</td>\n",
       "      <td>1</td>\n",
       "    </tr>\n",
       "    <tr>\n",
       "      <th>9662</th>\n",
       "      <td>E0</td>\n",
       "      <td>13/05/18</td>\n",
       "      <td>Tottenham</td>\n",
       "      <td>Leicester</td>\n",
       "      <td>5</td>\n",
       "      <td>4</td>\n",
       "      <td>H</td>\n",
       "      <td>1.0</td>\n",
       "      <td>2.0</td>\n",
       "      <td>A</td>\n",
       "      <td>2017-18</td>\n",
       "      <td>Tottenham</td>\n",
       "      <td>Leicester</td>\n",
       "      <td>0</td>\n",
       "    </tr>\n",
       "    <tr>\n",
       "      <th>9663</th>\n",
       "      <td>E0</td>\n",
       "      <td>13/05/18</td>\n",
       "      <td>West Ham</td>\n",
       "      <td>Everton</td>\n",
       "      <td>3</td>\n",
       "      <td>1</td>\n",
       "      <td>H</td>\n",
       "      <td>1.0</td>\n",
       "      <td>0.0</td>\n",
       "      <td>H</td>\n",
       "      <td>2017-18</td>\n",
       "      <td>West Ham</td>\n",
       "      <td>West Ham</td>\n",
       "      <td>1</td>\n",
       "    </tr>\n",
       "  </tbody>\n",
       "</table>\n",
       "<p>4461 rows × 14 columns</p>\n",
       "</div>"
      ],
      "text/plain": [
       "     Div      Date          HomeTeam        AwayTeam  FTHG  FTAG FTR  HTHG  \\\n",
       "1     E0  14/08/93       Aston Villa             QPR     4     1   H   NaN   \n",
       "3     E0  14/08/93         Liverpool  Sheffield Weds     2     0   H   NaN   \n",
       "7     E0  14/08/93  Sheffield United         Swindon     3     1   H   NaN   \n",
       "12    E0  17/08/93           Everton        Man City     1     0   H   NaN   \n",
       "13    E0  17/08/93           Ipswich     Southampton     1     0   H   NaN   \n",
       "...   ..       ...               ...             ...   ...   ...  ..   ...   \n",
       "9657  E0  13/05/18         Liverpool        Brighton     4     0   H   2.0   \n",
       "9658  E0  13/05/18        Man United         Watford     1     0   H   1.0   \n",
       "9659  E0  13/05/18         Newcastle         Chelsea     3     0   H   1.0   \n",
       "9662  E0  13/05/18         Tottenham       Leicester     5     4   H   1.0   \n",
       "9663  E0  13/05/18          West Ham         Everton     3     1   H   1.0   \n",
       "\n",
       "      HTAG  HTR   Season            Winner Half_Time_Winner  Same Winner  \n",
       "1      NaN  NaN  1993-94       Aston Villa                0            0  \n",
       "3      NaN  NaN  1993-94         Liverpool                0            0  \n",
       "7      NaN  NaN  1993-94  Sheffield United                0            0  \n",
       "12     NaN  NaN  1993-94           Everton                0            0  \n",
       "13     NaN  NaN  1993-94           Ipswich                0            0  \n",
       "...    ...  ...      ...               ...              ...          ...  \n",
       "9657   0.0    H  2017-18         Liverpool        Liverpool            1  \n",
       "9658   0.0    H  2017-18        Man United       Man United            1  \n",
       "9659   0.0    H  2017-18         Newcastle        Newcastle            1  \n",
       "9662   2.0    A  2017-18         Tottenham        Leicester            0  \n",
       "9663   0.0    H  2017-18          West Ham         West Ham            1  \n",
       "\n",
       "[4461 rows x 14 columns]"
      ]
     },
     "execution_count": 45,
     "metadata": {},
     "output_type": "execute_result"
    }
   ],
   "source": [
    "df_epl[df_epl['FTR']=='H']\n",
    "#These are all the times a Home team has won."
   ]
  },
  {
   "cell_type": "code",
   "execution_count": 46,
   "metadata": {},
   "outputs": [
    {
     "name": "stdout",
     "output_type": "stream",
     "text": [
      "7118\n",
      "0.6267209890418657\n"
     ]
    }
   ],
   "source": [
    "#we check the number matches that are not draw \n",
    "print(len(epl_data_nodraw))\n",
    "print(4461/7118)"
   ]
  },
  {
   "cell_type": "markdown",
   "metadata": {},
   "source": [
    "<a id=section7></a>\n",
    "### 7. Conclusion"
   ]
  },
  {
   "cell_type": "markdown",
   "metadata": {},
   "source": [
    "- The seasons of 93-94 and 94-95 have the highest number of goals. Seasons between 10 and 14 have done better than average number of goals. However no years since 95 have been better for the number of goals.\n",
    "- About 3868 times out of 7324 matches the team who wins at half time also wins at full time. Thus we can say 92% of the time the match is won by the team wining at half time. This is true if a draw match is not considered.\n",
    "- If draws are included then there is a 52% chance the match is won by the team at half time or ends in a draw.\n",
    "- There we can say the 62% of the games that are at draw at half time will be won by a team. \n",
    "- If we include draw matches and check whether that the result at half time is the result at the end.There is a 66% chance that it will remain the same.\n",
    "- Removing matches that are draw at both times we get a 60% chance that we get the same result. \n",
    "- We can see that the success rate falls when draw matches are included.\n",
    "- Thus the home team wins 62% of the time. Thus there is definitely an advantage when playing on the home field, however the difference is not too large."
   ]
  },
  {
   "cell_type": "markdown",
   "metadata": {},
   "source": [
    "<a id=section8></a>\n",
    "### 8. Actionable Insights"
   ]
  },
  {
   "cell_type": "markdown",
   "metadata": {},
   "source": [
    "- It's tradition and kind of fun to go to a game on Boxing Day, but I'm sure the players would like a Christmas Break. All the other big leagues do it for some amount of time and it doesn't seem to affect them. It probably will never happen, but it could be a big help for the league. The fixture list is really congested and playing at Christmas is almost a necessity.\n",
    "- Word is that the English FA is considering using goal-line technology next season. This would certainly decrease the number of manager complaints across the league. The positive effects of goal-line technology are obvious and managers surely wouldn't have any objection. It would help referees make difficult decisions in a league where every one counts.\n",
    "- Let's say Arsenal teams up with a team in the lower divisions like Bournemouth AFC. Arsenal then says they will inject some cash to upgrade facilities and technology, etc. They would share training knowledge and coaches could go either way to learn and impart knowledge. Through all that, Arsenal would have first dibs on the hottest talents the club produces. Talents that would be English of course.\n",
    "- The January window has become a virtual non-entity. Clubs gain no value, and it provides an underserved safety net to those who didn’t act appropriately the previous summer, or who have failed to plan appropriately for the next one. You’d get the summer to build your squad, and that’s that. The only exceptions would be loan deals to Football League clubs from Premier League sides for those aged under 21, which could happen all season long. "
   ]
  }
 ],
 "metadata": {
  "kernelspec": {
   "display_name": "Python 3",
   "language": "python",
   "name": "python3"
  },
  "language_info": {
   "codemirror_mode": {
    "name": "ipython",
    "version": 3
   },
   "file_extension": ".py",
   "mimetype": "text/x-python",
   "name": "python",
   "nbconvert_exporter": "python",
   "pygments_lexer": "ipython3",
   "version": "3.8.3"
  }
 },
 "nbformat": 4,
 "nbformat_minor": 4
}
